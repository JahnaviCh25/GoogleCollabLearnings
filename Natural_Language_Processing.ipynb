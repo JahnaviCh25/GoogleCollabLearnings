{
  "cells": [
    {
      "cell_type": "markdown",
      "metadata": {
        "id": "fWzPZRi-HJf0"
      },
      "source": [
        "# Natural Language Processing\n",
        "\n",
        "* https://www.nltk.org/index.html\n",
        "* https://spacy.io/\n",
        "* https://pypi.org/project/wikipedia/ # pie pea eye or python packaging index\n",
        "* https://kgextension.readthedocs.io/en/latest/\n",
        "\n",
        "NLTK Downloads\n",
        "\n",
        "* install nltk: https://pypi.org/project/nltk/\n",
        "* stopwords: https://pythonspot.com/nltk-stop-words/\n",
        "* punkt: https://www.nltk.org/api/nltk.tokenize.punkt.html\n",
        "* wordnet: https://www.tutorialspoint.com/how-to-get-synonyms-antonyms-from-nltk-wordnet-in-python\n",
        "* averaged_perceptron_tagger: https://morioh.com/p/04a148fa2131"
      ]
    },
    {
      "cell_type": "code",
      "execution_count": null,
      "metadata": {
        "id": "2h3OxlqEHJf3"
      },
      "outputs": [],
      "source": [
        "# downloads for processing raw text, meanings, pos tagging, and cleaning\n",
        "# import nltk\n",
        "# nltk.download('stopwords')\n",
        "# nltk.download('punkt')\n",
        "# nltk.download('wordnet')\n",
        "# nltk.download('averaged_perceptron_tagger')"
      ]
    },
    {
      "cell_type": "markdown",
      "metadata": {
        "id": "vlOk5MAfHJf4"
      },
      "source": [
        "## Text Analysis\n",
        "\n",
        "From https://scikit-learn.org/stable/modules/feature_extraction.html#text-feature-extraction :\n",
        "\n",
        "> Text Analysis is a major application field for machine learning algorithms. However the raw data, a sequence of symbols cannot be fed directly to the algorithms themselves as most of them expect numerical feature vectors with a fixed size rather than the raw text documents with variable length.\n",
        "\n",
        "> In order to address this, scikit-learn provides utilities for the most common ways to extract numerical features from text content, namely:\n",
        "> * tokenizing strings and giving an integer id for each possible token, for instance by using white-spaces and punctuation as token separators\n",
        "> * counting the occurrences of tokens in each document\n",
        "> * normalizing and weighting with diminishing importance tokens that occur in the majority of samples / documents\n",
        "\n",
        "> In this scheme, features and samples are defined as follows:\n",
        "> * each individual token occurrence frequency (normalized or not) is treated as a feature\n",
        "> * the vector of all the token frequencies for a given document is considered a multivariate sample\n",
        "> A corpus of documents can thus be represented by a matrix with one row per document and one column per token (e.g. word) occurring in the corpus\n",
        "\n",
        "> We call vectorization the general process of turning a collection of text documents into numerical feature vectors. This specific strategy (tokenization, counting and normalization) is called the Bag of Words or “Bag of n-grams” representation. Documents are described by word occurrences while completely ignoring the relative position information of the words in the document."
      ]
    },
    {
      "cell_type": "markdown",
      "metadata": {
        "id": "M9Bm7lRsHJf4"
      },
      "source": [
        "### Word Tokens\n",
        "\n",
        "Tokens are the total numbers of words in a corpus regardless if they are repeated. Word tokenization splits text into words."
      ]
    },
    {
      "cell_type": "code",
      "execution_count": null,
      "metadata": {
        "id": "BTHsjwZxHJf4",
        "outputId": "1ebfc0ef-bf3b-47fd-d914-7d80d8823514"
      },
      "outputs": [
        {
          "data": {
            "text/plain": [
              "['I',\n",
              " 'love',\n",
              " 'learning',\n",
              " '.',\n",
              " 'I',\n",
              " 'have',\n",
              " 'learned',\n",
              " 'so',\n",
              " 'much',\n",
              " ',',\n",
              " 'and',\n",
              " 'hope',\n",
              " 'to',\n",
              " 'learn',\n",
              " 'more',\n",
              " '.',\n",
              " 'I',\n",
              " 'also',\n",
              " 'hope',\n",
              " 'to',\n",
              " 'learn',\n",
              " 'how',\n",
              " 'a',\n",
              " 'machine',\n",
              " 'learns',\n",
              " '.']"
            ]
          },
          "execution_count": 2,
          "metadata": {},
          "output_type": "execute_result"
        }
      ],
      "source": [
        "# demonstrate word_tokenize\n",
        "from nltk.tokenize import word_tokenize\n",
        "\n",
        "text = 'I love learning. I have learned so much, and hope to learn more. I also hope to learn how a machine learns.'\n",
        "word_tokenize(text)"
      ]
    },
    {
      "cell_type": "markdown",
      "metadata": {
        "id": "PUTwExDZHJf5"
      },
      "source": [
        "## CountVectorizer"
      ]
    },
    {
      "cell_type": "code",
      "execution_count": null,
      "metadata": {
        "id": "I_stDBSDHJf5",
        "outputId": "4a66f8c4-c5ae-459b-de9b-66a2cb83021b"
      },
      "outputs": [
        {
          "name": "stdout",
          "output_type": "stream",
          "text": [
            "                                                msgs\n",
            "0  I love learning. I have learned so much, and h...\n",
            "1  Learning about beautiful mice was so much fun ...\n"
          ]
        }
      ],
      "source": [
        "# create dataframe from messages\n",
        "import pandas as pd\n",
        "from nltk.tokenize import word_tokenize\n",
        "\n",
        "msgs = [\n",
        "    'I love learning. I have learned so much, and hope to learn more. I also hope to learn how a machine learns',\n",
        "    'Learning about beautiful mice was so much fun till I learned there was going to be a quiz'\n",
        "]\n",
        "\n",
        "df = pd.DataFrame({'msgs': msgs})\n",
        "print(df)"
      ]
    },
    {
      "cell_type": "code",
      "execution_count": null,
      "metadata": {
        "id": "-ubnzXyZHJf6",
        "outputId": "169a739f-a21e-42e1-be76-b7aa5ae825ab"
      },
      "outputs": [
        {
          "data": {
            "text/html": [
              "<div>\n",
              "<style scoped>\n",
              "    .dataframe tbody tr th:only-of-type {\n",
              "        vertical-align: middle;\n",
              "    }\n",
              "\n",
              "    .dataframe tbody tr th {\n",
              "        vertical-align: top;\n",
              "    }\n",
              "\n",
              "    .dataframe thead th {\n",
              "        text-align: right;\n",
              "    }\n",
              "</style>\n",
              "<table border=\"1\" class=\"dataframe\">\n",
              "  <thead>\n",
              "    <tr style=\"text-align: right;\">\n",
              "      <th></th>\n",
              "      <th>about</th>\n",
              "      <th>also</th>\n",
              "      <th>and</th>\n",
              "      <th>be</th>\n",
              "      <th>beautiful</th>\n",
              "      <th>fun</th>\n",
              "      <th>going</th>\n",
              "      <th>have</th>\n",
              "      <th>hope</th>\n",
              "      <th>how</th>\n",
              "      <th>...</th>\n",
              "      <th>machine</th>\n",
              "      <th>mice</th>\n",
              "      <th>more</th>\n",
              "      <th>much</th>\n",
              "      <th>quiz</th>\n",
              "      <th>so</th>\n",
              "      <th>there</th>\n",
              "      <th>till</th>\n",
              "      <th>to</th>\n",
              "      <th>was</th>\n",
              "    </tr>\n",
              "  </thead>\n",
              "  <tbody>\n",
              "    <tr>\n",
              "      <th>0</th>\n",
              "      <td>0</td>\n",
              "      <td>1</td>\n",
              "      <td>1</td>\n",
              "      <td>0</td>\n",
              "      <td>0</td>\n",
              "      <td>0</td>\n",
              "      <td>0</td>\n",
              "      <td>1</td>\n",
              "      <td>2</td>\n",
              "      <td>1</td>\n",
              "      <td>...</td>\n",
              "      <td>1</td>\n",
              "      <td>0</td>\n",
              "      <td>1</td>\n",
              "      <td>1</td>\n",
              "      <td>0</td>\n",
              "      <td>1</td>\n",
              "      <td>0</td>\n",
              "      <td>0</td>\n",
              "      <td>2</td>\n",
              "      <td>0</td>\n",
              "    </tr>\n",
              "    <tr>\n",
              "      <th>1</th>\n",
              "      <td>1</td>\n",
              "      <td>0</td>\n",
              "      <td>0</td>\n",
              "      <td>1</td>\n",
              "      <td>1</td>\n",
              "      <td>1</td>\n",
              "      <td>1</td>\n",
              "      <td>0</td>\n",
              "      <td>0</td>\n",
              "      <td>0</td>\n",
              "      <td>...</td>\n",
              "      <td>0</td>\n",
              "      <td>1</td>\n",
              "      <td>0</td>\n",
              "      <td>1</td>\n",
              "      <td>1</td>\n",
              "      <td>1</td>\n",
              "      <td>1</td>\n",
              "      <td>1</td>\n",
              "      <td>1</td>\n",
              "      <td>2</td>\n",
              "    </tr>\n",
              "  </tbody>\n",
              "</table>\n",
              "<p>2 rows × 25 columns</p>\n",
              "</div>"
            ],
            "text/plain": [
              "   about  also  and  be  beautiful  fun  going  have  hope  how  ...  machine  \\\n",
              "0      0     1    1   0          0    0      0     1     2    1  ...        1   \n",
              "1      1     0    0   1          1    1      1     0     0    0  ...        0   \n",
              "\n",
              "   mice  more  much  quiz  so  there  till  to  was  \n",
              "0     0     1     1     0   1      0     0   2    0  \n",
              "1     1     0     1     1   1      1     1   1    2  \n",
              "\n",
              "[2 rows x 25 columns]"
            ]
          },
          "execution_count": 4,
          "metadata": {},
          "output_type": "execute_result"
        }
      ],
      "source": [
        "# demonstrate CountVectorizer\n",
        "from sklearn.feature_extraction.text import CountVectorizer\n",
        "\n",
        "cv = CountVectorizer()\n",
        "matrix = cv.fit_transform(df['msgs'])\n",
        "cv_df = pd.DataFrame(matrix.toarray(), columns=cv.get_feature_names_out())\n",
        "cv_df"
      ]
    },
    {
      "cell_type": "markdown",
      "metadata": {
        "id": "NaDeAwIAHJf6"
      },
      "source": [
        "## Bag of Words\n",
        "\n",
        "The bag-of-words model is a simplifying representation used in natural language processing and information retrieval (IR). In this model, a text (such as a sentence or a document) is represented as the bag (multiset) of its words, disregarding grammar and even word order but keeping multiplicity. The bag-of-words model is commonly used in methods of document classification where the (frequency of) occurrence of each word is used as a feature for training a classifier.\n",
        "\n",
        "https://en.wikipedia.org/wiki/Bag-of-words_model"
      ]
    },
    {
      "cell_type": "markdown",
      "metadata": {
        "id": "I2Dcb7JeHJf_"
      },
      "source": [
        "## Stemming\n",
        "\n",
        "Stemming finds the stem of a word."
      ]
    },
    {
      "cell_type": "code",
      "execution_count": null,
      "metadata": {
        "id": "aVo9dYNvHJgA",
        "outputId": "31a02e49-d363-47a9-f263-88128dd8174b"
      },
      "outputs": [
        {
          "name": "stdout",
          "output_type": "stream",
          "text": [
            "learn\n",
            "learn\n",
            "learn\n",
            "learn\n"
          ]
        }
      ],
      "source": [
        "# demonstrate stemming\n",
        "from nltk.stem import PorterStemmer\n",
        "\n",
        "ps =PorterStemmer()\n",
        "words= ['learn', 'learned', 'learning', 'learns']\n",
        "\n",
        "for word in words:\n",
        "    print(ps.stem(word))"
      ]
    },
    {
      "cell_type": "code",
      "execution_count": null,
      "metadata": {
        "id": "nWq_gJKIHJgA",
        "outputId": "8decddf7-5ee1-42eb-c55e-c0d2e9965830"
      },
      "outputs": [
        {
          "name": "stdout",
          "output_type": "stream",
          "text": [
            "['i', 'love', 'learn', '.', 'i', 'have', 'learn', 'so', 'much', ',', 'and', 'hope', 'to', 'learn', 'more', '.', 'i', 'also', 'hope', 'to', 'learn', 'how', 'a', 'machin', 'learn', '.']\n"
          ]
        }
      ],
      "source": [
        "# demonstrate stemming and tokenization\n",
        "from nltk.stem import PorterStemmer\n",
        "from nltk.tokenize import word_tokenize\n",
        "\n",
        "ps =PorterStemmer()\n",
        "sentence = 'I love learning. I have learned so much, and hope to learn more. I also hope to learn how a machine learns.'\n",
        "words = word_tokenize(sentence)\n",
        "print([ps.stem(word) for word in words])"
      ]
    },
    {
      "cell_type": "code",
      "execution_count": null,
      "metadata": {
        "id": "lLp6cGvIHJgA",
        "outputId": "3015eebf-5f0b-4bf6-f387-313f475c736e"
      },
      "outputs": [
        {
          "name": "stdout",
          "output_type": "stream",
          "text": [
            "['i', 'love', 'learn', '.', 'i', 'have', 'learn', 'so', 'much', ',', 'and', 'hope', 'to', 'learn', 'more', '.', 'i', 'also', 'hope', 'to', 'learn', 'how', 'a', 'machin', 'learn', '.']\n"
          ]
        }
      ],
      "source": [
        "# demonstrate stemming and tokenization\n",
        "from nltk.stem import SnowballStemmer\n",
        "from nltk.tokenize import word_tokenize\n",
        "\n",
        "sb =SnowballStemmer(language='english')\n",
        "sentence = 'I love learning. I have learned so much, and hope to learn more. I also hope to learn how a machine learns.'\n",
        "words = word_tokenize(sentence)\n",
        "print([sb.stem(word) for word in words])"
      ]
    },
    {
      "cell_type": "markdown",
      "metadata": {
        "id": "mLGTSA17HJgA"
      },
      "source": [
        "## Lemmatization\n",
        "\n",
        "Lemmatization tries to provide context."
      ]
    },
    {
      "cell_type": "code",
      "execution_count": null,
      "metadata": {
        "id": "jgde4RERHJgB"
      },
      "outputs": [],
      "source": [
        "# import nltk\n",
        "# nltk.download('omw-1.4')"
      ]
    },
    {
      "cell_type": "code",
      "execution_count": null,
      "metadata": {
        "id": "lOqGCg4RHJgB",
        "outputId": "168648af-de13-4791-8a50-1df0609e0a26"
      },
      "outputs": [
        {
          "name": "stdout",
          "output_type": "stream",
          "text": [
            "learning => learn (v)\n",
            "about => about (n)\n",
            "beautiful => beautiful (a)\n",
            "mice => mouse (n)\n",
            "was => be (v)\n",
            "so => so (r)\n",
            "much => much (a)\n",
            "fun => fun (n)\n",
            "till => till (n)\n",
            "I => I (n)\n",
            "learned => learn (v)\n",
            "there => there (n)\n",
            "was => be (v)\n",
            "going => go (v)\n",
            "to => to (n)\n",
            "be => be (v)\n",
            "a => a (n)\n",
            "quiz => quiz (n)\n"
          ]
        }
      ],
      "source": [
        "# demonstrate lemmatization\n",
        "from nltk.corpus import wordnet as wn\n",
        "from nltk.stem.wordnet import WordNetLemmatizer\n",
        "from nltk import word_tokenize, pos_tag\n",
        "from collections import defaultdict\n",
        "\n",
        "tag_map = defaultdict(lambda : wn.NOUN)\n",
        "tag_map['J'] = wn.ADJ\n",
        "tag_map['V'] = wn.VERB\n",
        "tag_map['R'] = wn.ADV\n",
        "\n",
        "text = 'learning about beautiful mice was so much fun till I learned there was going to be a quiz'\n",
        "tokens = word_tokenize(text)\n",
        "lemma_function = WordNetLemmatizer()\n",
        "\n",
        "for token, tag in pos_tag(tokens):\n",
        "    lemma = lemma_function.lemmatize(token, tag_map[tag[0]])\n",
        "    print(f'{token} => {lemma} ({tag_map[tag[0]]})')"
      ]
    },
    {
      "cell_type": "markdown",
      "metadata": {
        "id": "0hyUKr_6HJgB"
      },
      "source": [
        "## TF-IDF (Term Frequency Inverse Document Frequency)\n",
        "\n",
        "* Term frequency vs term usefulness\n",
        "* Simple frequency count can be misleading because frequent terms in one document can also be frequent in other documents\n",
        "* TF-IDF is used to score words in context of the document as well as in the context of the corpus, the higher the score the more useful\n",
        "\n",
        "For example, you are wondering what to take for your electives. You want the class to be good but you also want the class to be relevant to your major. It's easy to see that the class can be:\n",
        "1. both good and relevant\n",
        "2. good but not relevant\n",
        "3. relevant but not good\n",
        "4. not good and not relevant\n",
        "\n",
        "In the same way, a term may be:\n",
        "1. frequently used in your corpus and useful in the analysis of the document it is found in\n",
        "2. frequently used in your corpus but useless\n",
        "3. infrequently used in your corpus but useful\n",
        "4. infrequenlty used in your corpus and useless"
      ]
    },
    {
      "cell_type": "code",
      "execution_count": null,
      "metadata": {
        "id": "kZceWkDNHJgB",
        "outputId": "125b2844-b7cc-4e55-8e41-0f22d87ee812"
      },
      "outputs": [
        {
          "data": {
            "text/html": [
              "<div>\n",
              "<style scoped>\n",
              "    .dataframe tbody tr th:only-of-type {\n",
              "        vertical-align: middle;\n",
              "    }\n",
              "\n",
              "    .dataframe tbody tr th {\n",
              "        vertical-align: top;\n",
              "    }\n",
              "\n",
              "    .dataframe thead th {\n",
              "        text-align: right;\n",
              "    }\n",
              "</style>\n",
              "<table border=\"1\" class=\"dataframe\">\n",
              "  <thead>\n",
              "    <tr style=\"text-align: right;\">\n",
              "      <th></th>\n",
              "      <th>about</th>\n",
              "      <th>also</th>\n",
              "      <th>and</th>\n",
              "      <th>be</th>\n",
              "      <th>beautiful</th>\n",
              "      <th>fun</th>\n",
              "      <th>going</th>\n",
              "      <th>have</th>\n",
              "      <th>hope</th>\n",
              "      <th>how</th>\n",
              "      <th>...</th>\n",
              "      <th>machine</th>\n",
              "      <th>mice</th>\n",
              "      <th>more</th>\n",
              "      <th>much</th>\n",
              "      <th>quiz</th>\n",
              "      <th>so</th>\n",
              "      <th>there</th>\n",
              "      <th>till</th>\n",
              "      <th>to</th>\n",
              "      <th>was</th>\n",
              "    </tr>\n",
              "  </thead>\n",
              "  <tbody>\n",
              "    <tr>\n",
              "      <th>0</th>\n",
              "      <td>0.000000</td>\n",
              "      <td>0.223328</td>\n",
              "      <td>0.223328</td>\n",
              "      <td>0.000000</td>\n",
              "      <td>0.000000</td>\n",
              "      <td>0.000000</td>\n",
              "      <td>0.000000</td>\n",
              "      <td>0.223328</td>\n",
              "      <td>0.446656</td>\n",
              "      <td>0.223328</td>\n",
              "      <td>...</td>\n",
              "      <td>0.223328</td>\n",
              "      <td>0.000000</td>\n",
              "      <td>0.223328</td>\n",
              "      <td>0.158900</td>\n",
              "      <td>0.000000</td>\n",
              "      <td>0.158900</td>\n",
              "      <td>0.000000</td>\n",
              "      <td>0.000000</td>\n",
              "      <td>0.317800</td>\n",
              "      <td>0.00000</td>\n",
              "    </tr>\n",
              "    <tr>\n",
              "      <th>1</th>\n",
              "      <td>0.253745</td>\n",
              "      <td>0.000000</td>\n",
              "      <td>0.000000</td>\n",
              "      <td>0.253745</td>\n",
              "      <td>0.253745</td>\n",
              "      <td>0.253745</td>\n",
              "      <td>0.253745</td>\n",
              "      <td>0.000000</td>\n",
              "      <td>0.000000</td>\n",
              "      <td>0.000000</td>\n",
              "      <td>...</td>\n",
              "      <td>0.000000</td>\n",
              "      <td>0.253745</td>\n",
              "      <td>0.000000</td>\n",
              "      <td>0.180542</td>\n",
              "      <td>0.253745</td>\n",
              "      <td>0.180542</td>\n",
              "      <td>0.253745</td>\n",
              "      <td>0.253745</td>\n",
              "      <td>0.180542</td>\n",
              "      <td>0.50749</td>\n",
              "    </tr>\n",
              "  </tbody>\n",
              "</table>\n",
              "<p>2 rows × 25 columns</p>\n",
              "</div>"
            ],
            "text/plain": [
              "      about      also       and        be  beautiful       fun     going  \\\n",
              "0  0.000000  0.223328  0.223328  0.000000   0.000000  0.000000  0.000000   \n",
              "1  0.253745  0.000000  0.000000  0.253745   0.253745  0.253745  0.253745   \n",
              "\n",
              "       have      hope       how  ...   machine      mice      more      much  \\\n",
              "0  0.223328  0.446656  0.223328  ...  0.223328  0.000000  0.223328  0.158900   \n",
              "1  0.000000  0.000000  0.000000  ...  0.000000  0.253745  0.000000  0.180542   \n",
              "\n",
              "       quiz        so     there      till        to      was  \n",
              "0  0.000000  0.158900  0.000000  0.000000  0.317800  0.00000  \n",
              "1  0.253745  0.180542  0.253745  0.253745  0.180542  0.50749  \n",
              "\n",
              "[2 rows x 25 columns]"
            ]
          },
          "execution_count": 10,
          "metadata": {},
          "output_type": "execute_result"
        }
      ],
      "source": [
        "# tf-idf demonstration\n",
        "from sklearn.feature_extraction.text import TfidfVectorizer\n",
        "\n",
        "text1 = 'I love learning. I have learned so much, and hope to learn more. I also hope to learn how a machine learns.'\n",
        "text2 = 'learning about beautiful mice was so much fun till I learned there was going to be a quiz'\n",
        "\n",
        "vectorizer = TfidfVectorizer()\n",
        "vectors = vectorizer.fit_transform([text1, text2])\n",
        "feature_names = vectorizer.get_feature_names_out()\n",
        "dense = vectors.todense()\n",
        "denselist = dense.tolist()\n",
        "df = pd.DataFrame(denselist, columns=feature_names)\n",
        "df"
      ]
    },
    {
      "cell_type": "markdown",
      "metadata": {
        "id": "074QIvwsHJgB"
      },
      "source": [
        "## Stop Words"
      ]
    },
    {
      "cell_type": "code",
      "execution_count": null,
      "metadata": {
        "id": "TliPRj8-HJgC"
      },
      "outputs": [],
      "source": [
        "from nltk.corpus import stopwords\n",
        "\n",
        "stopwords = set(stopwords.words('english'))\n",
        "\n",
        "# add words\n",
        "add_stopwords = ['word1', 'word2']\n",
        "stopwords = stopwords.union(add_stopwords)\n",
        "\n",
        "# remove words\n",
        "remove_stopwords = {'word1', 'word2'}\n",
        "stopwords = set([word for word in stopwords if word not in remove_stopwords])"
      ]
    },
    {
      "cell_type": "code",
      "execution_count": null,
      "metadata": {
        "id": "jLKRfVEhHJgC",
        "outputId": "05263824-7b66-4be4-be69-f0c6d84a91cf"
      },
      "outputs": [
        {
          "name": "stdout",
          "output_type": "stream",
          "text": [
            "                                                msgs\n",
            "0  love learning. learned much, hope learn more. ...\n",
            "1  learning beautiful mice much fun till learned ...\n"
          ]
        }
      ],
      "source": [
        "# https://stackoverflow.com/questions/54366913/removing-stopwords-from-a-pandas-dataframe\n",
        "import pandas as pd\n",
        "from nltk.tokenize import word_tokenize\n",
        "from nltk.corpus import stopwords\n",
        "\n",
        "msgs = [\n",
        "    'I love learning. I have learned so much, and hope to learn more. I also hope to learn how a machine learns',\n",
        "    'Learning about beautiful mice was so much fun till I learned there was going to be a quiz'\n",
        "]\n",
        "\n",
        "df = pd.DataFrame({'msgs': msgs})\n",
        "stopwords = set(stopwords.words('english'))\n",
        "# df['msgs'] = df['msgs'].str.replace(\"[^\\w\\s]\", \"\").str.lower()\n",
        "df['msgs'] = df['msgs'].apply(lambda x: ' '.join([item.lower() for item in x.split() if item.lower() not in stopwords]))\n",
        "print(df.head())"
      ]
    },
    {
      "cell_type": "markdown",
      "metadata": {
        "id": "3J8xRZANHJgC"
      },
      "source": [
        "## spaCy\n",
        "\n",
        "Processing raw text intelligently is difficult: most words are rare, and it’s common for words that look completely different to mean almost the same thing. The same words in a different order can mean something completely different. Even splitting text into useful word-like units can be difficult in many languages. While it’s possible to solve some problems starting from only the raw characters, it’s usually better to use linguistic knowledge to add useful information. That’s exactly what spaCy is designed to do: you put in raw text, and get back a Doc object, that comes with a variety of annotations.\n",
        "\n",
        "https://spacy.io/usage/linguistic-features"
      ]
    },
    {
      "cell_type": "code",
      "execution_count": null,
      "metadata": {
        "id": "rUUVi119HJgD"
      },
      "outputs": [],
      "source": [
        "# pip install spacy\n",
        "# !python -m spacy download en_core_web_md\n",
        "# en_core_web_md is an English pipeline trained on written web text (blogs, news, comments),\n",
        "# that includes vocabulary, syntax, entities, and vectors\n",
        "import spacy\n",
        "\n",
        "nlp = spacy.load('en_core_web_md')"
      ]
    },
    {
      "cell_type": "markdown",
      "metadata": {
        "id": "xY5jeGXBHJgE"
      },
      "source": [
        "## Language Models\n",
        "\n",
        "1. Artificial Intelligence - what we would consider intelligent activity\n",
        "2. Machine Learning - Performance improvement based on a Task and Experience\n",
        "3. Neural Nets - A network of activation functions\n",
        "4. Deep Learning - Layers of various activation functions\n",
        "5. Language Model - Fill in the blank, complete the sentence given n-grams\n",
        "6. Large Language Model - Millions and billions of trainable weights\n",
        "\n",
        "### N-grams\n",
        "\n",
        "* Sequence of n successive words\n",
        "* Unigrams, bigrams, trigrams, n-grams\n",
        "* n = 3; I love learning, love learning I, learning I have, I have learned...\n",
        "\n",
        "### Markov Chains\n",
        "\n",
        "* Markov chains are used to generate a sequence of words that form a complete sentence\n",
        "* A Markov chain or Markov process is a stochastic model describing a sequence of possible events in which the probability of each event depends only on the state attained in the previous event\n",
        "* Informally, this may be thought of as, \"What happens next depends only on the state of affairs now\"\n",
        "\n",
        "https://en.wikipedia.org/wiki/Markov_chain\n",
        "\n",
        "A language model is a **probability distribution over sequences of words**. Given any sequence of words of length m, a language model **assigns a probability ... to the whole sequence**. Language models generate probabilities by **training on text corpora in one or many languages**. Given that languages can be used to express an infinite variety of valid sentences (the property of digital infinity), language modeling faces the problem of assigning non-zero probabilities to linguistically valid sequences that may never be encountered in the training data... Language models are useful for a variety of problems in computational linguistics; from initial **applications in speech recognition** to ensure nonsensical (i.e. low-probability) word sequences are not predicted, to wider use in **machine translation** (e.g. scoring candidate translations), **natural language generation (generating more human-like text)**, **part-of-speech tagging, parsing, optical character recognition, handwriting recognition, grammar induction, information retrieval, etc**. Since 2018, **large language models (LLMs) consisting of deep neural networks with billions of trainable parameters, trained on massive datasets of unlabelled text**, have demonstrated impressive results on a wide variety of natural language processing tasks. This development has led to a shift in research focus toward the use of general-purpose LLMs.\n",
        "\n",
        "https://en.wikipedia.org/wiki/Language_model"
      ]
    },
    {
      "cell_type": "markdown",
      "metadata": {
        "id": "aHm3_EEIHJgE"
      },
      "source": [
        "## Similarity Measures\n",
        "\n",
        "https://flavien-vidal.medium.com/similarity-distances-for-natural-language-processing-16f63cd5ba55\n",
        "\n",
        "\n",
        "### Longest Common Substring\n",
        "\n",
        "* India and Indiana would return 5\n",
        "\n",
        "### Levenshtein Edit Distance\n",
        "\n",
        "* Finds the minimum number of single-character edits such as replacement, deletion, and insertion, needed to convert 1 text into another\n",
        "* India and Indiana would return 2\n",
        "\n",
        "### Hamming Distance\n",
        "\n",
        "* Finds the number replacements needed to change one text into another of equal size\n",
        "* Indians and Indiana returns 2\n",
        "\n",
        "### Jaccard Distance\n",
        "\n",
        "* Finds how disimilar two words are by distance and the lower the distance, the more similar\n",
        "\n",
        "### Euclidean Distance\n",
        "\n",
        "* Finds the length between two points\n",
        "* l2 norm\n",
        "\n",
        "### Dot Product\n",
        "\n",
        "* Considers orientation, the direction, that Euclidean lacks\n",
        "* Uses magnitude with orientation\n",
        "\n",
        "### Cosine Similarity\n",
        "\n",
        "In data analysis, cosine similarity is a measure of similarity between two non-zero vectors defined in an inner product space. Cosine similarity is the cosine of the angle between the vectors; that is, it is the dot product of the vectors divided by the product of their lengths. It follows that the cosine similarity does not depend on the magnitudes of the vectors, but only on their angle. The cosine similarity always belongs to the interval -1, 1. For example, two proportional vectors have a cosine similarity of 1, two orthogonal vectors have a similarity of 0, and two opposite vectors have a similarity of -1. For example, in information retrieval and text mining, each word is assigned a different coordinate and a document is represented by the vector of the numbers of occurrences of each word in the document. Cosine similarity then gives a useful measure of how similar two documents are likely to be, in terms of their subject matter, and independently of the length of the documents. The technique is also used to measure cohesion within clusters in the field of data mining.\n",
        "\n",
        "https://en.wikipedia.org/wiki/Cosine_similarity"
      ]
    },
    {
      "cell_type": "code",
      "execution_count": null,
      "metadata": {
        "id": "v7_L5xjuHJgE",
        "outputId": "c87b82e9-a781-4d23-9315-07fe3622e9bb"
      },
      "outputs": [
        {
          "data": {
            "text/html": [
              "<div>\n",
              "<style scoped>\n",
              "    .dataframe tbody tr th:only-of-type {\n",
              "        vertical-align: middle;\n",
              "    }\n",
              "\n",
              "    .dataframe tbody tr th {\n",
              "        vertical-align: top;\n",
              "    }\n",
              "\n",
              "    .dataframe thead th {\n",
              "        text-align: right;\n",
              "    }\n",
              "</style>\n",
              "<table border=\"1\" class=\"dataframe\">\n",
              "  <thead>\n",
              "    <tr style=\"text-align: right;\">\n",
              "      <th></th>\n",
              "      <th>500</th>\n",
              "      <th>cricket</th>\n",
              "      <th>especially</th>\n",
              "      <th>every</th>\n",
              "      <th>in</th>\n",
              "      <th>india</th>\n",
              "      <th>indiana</th>\n",
              "      <th>indianapolis</th>\n",
              "      <th>ipl</th>\n",
              "      <th>is</th>\n",
              "      <th>may</th>\n",
              "      <th>popular</th>\n",
              "      <th>runs</th>\n",
              "      <th>the</th>\n",
              "      <th>very</th>\n",
              "      <th>with</th>\n",
              "    </tr>\n",
              "  </thead>\n",
              "  <tbody>\n",
              "    <tr>\n",
              "      <th>0</th>\n",
              "      <td>0</td>\n",
              "      <td>1</td>\n",
              "      <td>1</td>\n",
              "      <td>0</td>\n",
              "      <td>2</td>\n",
              "      <td>1</td>\n",
              "      <td>0</td>\n",
              "      <td>0</td>\n",
              "      <td>1</td>\n",
              "      <td>1</td>\n",
              "      <td>1</td>\n",
              "      <td>1</td>\n",
              "      <td>0</td>\n",
              "      <td>1</td>\n",
              "      <td>1</td>\n",
              "      <td>1</td>\n",
              "    </tr>\n",
              "    <tr>\n",
              "      <th>1</th>\n",
              "      <td>1</td>\n",
              "      <td>0</td>\n",
              "      <td>0</td>\n",
              "      <td>1</td>\n",
              "      <td>1</td>\n",
              "      <td>0</td>\n",
              "      <td>1</td>\n",
              "      <td>1</td>\n",
              "      <td>0</td>\n",
              "      <td>0</td>\n",
              "      <td>1</td>\n",
              "      <td>0</td>\n",
              "      <td>1</td>\n",
              "      <td>1</td>\n",
              "      <td>0</td>\n",
              "      <td>0</td>\n",
              "    </tr>\n",
              "  </tbody>\n",
              "</table>\n",
              "</div>"
            ],
            "text/plain": [
              "   500  cricket  especially  every  in  india  indiana  indianapolis  ipl  is  \\\n",
              "0    0        1           1      0   2      1        0             0    1   1   \n",
              "1    1        0           0      1   1      0        1             1    0   0   \n",
              "\n",
              "   may  popular  runs  the  very  with  \n",
              "0    1        1     0    1     1     1  \n",
              "1    1        0     1    1     0     0  "
            ]
          },
          "execution_count": 14,
          "metadata": {},
          "output_type": "execute_result"
        }
      ],
      "source": [
        "# demonstrate CountVectorizer\n",
        "import pandas as pd\n",
        "from sklearn.feature_extraction.text import CountVectorizer\n",
        "\n",
        "text1 = 'Cricket is very popular in India especially in May with the IPL'\n",
        "text2 = 'Every May, the Indianapolis 500 runs in Indiana'\n",
        "text3 = 'The Indian Premier Cricket League starts in March and continues through May'\n",
        "\n",
        "msgs = [text1, text2]\n",
        "\n",
        "cv = CountVectorizer()\n",
        "matrix = cv.fit_transform(msgs)\n",
        "cv_df = pd.DataFrame(matrix.toarray(), columns=cv.get_feature_names_out())\n",
        "cv_df"
      ]
    },
    {
      "cell_type": "markdown",
      "metadata": {
        "id": "JQvVGHZNHJgE"
      },
      "source": [
        "* Rows are word vectors\n",
        "* Columns are document vectors"
      ]
    },
    {
      "cell_type": "code",
      "execution_count": null,
      "metadata": {
        "id": "xaAFcfA4HJgE",
        "outputId": "c59b431a-e0c8-4644-e6d8-90b9d1272c3f"
      },
      "outputs": [
        {
          "data": {
            "text/html": [
              "<div>\n",
              "<style scoped>\n",
              "    .dataframe tbody tr th:only-of-type {\n",
              "        vertical-align: middle;\n",
              "    }\n",
              "\n",
              "    .dataframe tbody tr th {\n",
              "        vertical-align: top;\n",
              "    }\n",
              "\n",
              "    .dataframe thead th {\n",
              "        text-align: right;\n",
              "    }\n",
              "</style>\n",
              "<table border=\"1\" class=\"dataframe\">\n",
              "  <thead>\n",
              "    <tr style=\"text-align: right;\">\n",
              "      <th></th>\n",
              "      <th>500</th>\n",
              "      <th>and</th>\n",
              "      <th>continues</th>\n",
              "      <th>cricket</th>\n",
              "      <th>especially</th>\n",
              "      <th>every</th>\n",
              "      <th>in</th>\n",
              "      <th>india</th>\n",
              "      <th>indian</th>\n",
              "      <th>indiana</th>\n",
              "      <th>...</th>\n",
              "      <th>march</th>\n",
              "      <th>may</th>\n",
              "      <th>popular</th>\n",
              "      <th>premier</th>\n",
              "      <th>runs</th>\n",
              "      <th>starts</th>\n",
              "      <th>the</th>\n",
              "      <th>through</th>\n",
              "      <th>very</th>\n",
              "      <th>with</th>\n",
              "    </tr>\n",
              "  </thead>\n",
              "  <tbody>\n",
              "    <tr>\n",
              "      <th>0</th>\n",
              "      <td>0.000000</td>\n",
              "      <td>0.000000</td>\n",
              "      <td>0.000000</td>\n",
              "      <td>0.244551</td>\n",
              "      <td>0.321556</td>\n",
              "      <td>0.000000</td>\n",
              "      <td>0.379832</td>\n",
              "      <td>0.321556</td>\n",
              "      <td>0.000000</td>\n",
              "      <td>0.000000</td>\n",
              "      <td>...</td>\n",
              "      <td>0.000000</td>\n",
              "      <td>0.189916</td>\n",
              "      <td>0.321556</td>\n",
              "      <td>0.000000</td>\n",
              "      <td>0.000000</td>\n",
              "      <td>0.000000</td>\n",
              "      <td>0.189916</td>\n",
              "      <td>0.000000</td>\n",
              "      <td>0.321556</td>\n",
              "      <td>0.321556</td>\n",
              "    </tr>\n",
              "    <tr>\n",
              "      <th>1</th>\n",
              "      <td>0.406676</td>\n",
              "      <td>0.000000</td>\n",
              "      <td>0.000000</td>\n",
              "      <td>0.000000</td>\n",
              "      <td>0.000000</td>\n",
              "      <td>0.406676</td>\n",
              "      <td>0.240189</td>\n",
              "      <td>0.000000</td>\n",
              "      <td>0.000000</td>\n",
              "      <td>0.406676</td>\n",
              "      <td>...</td>\n",
              "      <td>0.000000</td>\n",
              "      <td>0.240189</td>\n",
              "      <td>0.000000</td>\n",
              "      <td>0.000000</td>\n",
              "      <td>0.406676</td>\n",
              "      <td>0.000000</td>\n",
              "      <td>0.240189</td>\n",
              "      <td>0.000000</td>\n",
              "      <td>0.000000</td>\n",
              "      <td>0.000000</td>\n",
              "    </tr>\n",
              "    <tr>\n",
              "      <th>2</th>\n",
              "      <td>0.000000</td>\n",
              "      <td>0.322331</td>\n",
              "      <td>0.322331</td>\n",
              "      <td>0.245141</td>\n",
              "      <td>0.000000</td>\n",
              "      <td>0.000000</td>\n",
              "      <td>0.190374</td>\n",
              "      <td>0.000000</td>\n",
              "      <td>0.322331</td>\n",
              "      <td>0.000000</td>\n",
              "      <td>...</td>\n",
              "      <td>0.322331</td>\n",
              "      <td>0.190374</td>\n",
              "      <td>0.000000</td>\n",
              "      <td>0.322331</td>\n",
              "      <td>0.000000</td>\n",
              "      <td>0.322331</td>\n",
              "      <td>0.190374</td>\n",
              "      <td>0.322331</td>\n",
              "      <td>0.000000</td>\n",
              "      <td>0.000000</td>\n",
              "    </tr>\n",
              "  </tbody>\n",
              "</table>\n",
              "<p>3 rows × 24 columns</p>\n",
              "</div>"
            ],
            "text/plain": [
              "        500       and  continues   cricket  especially     every        in  \\\n",
              "0  0.000000  0.000000   0.000000  0.244551    0.321556  0.000000  0.379832   \n",
              "1  0.406676  0.000000   0.000000  0.000000    0.000000  0.406676  0.240189   \n",
              "2  0.000000  0.322331   0.322331  0.245141    0.000000  0.000000  0.190374   \n",
              "\n",
              "      india    indian   indiana  ...     march       may   popular   premier  \\\n",
              "0  0.321556  0.000000  0.000000  ...  0.000000  0.189916  0.321556  0.000000   \n",
              "1  0.000000  0.000000  0.406676  ...  0.000000  0.240189  0.000000  0.000000   \n",
              "2  0.000000  0.322331  0.000000  ...  0.322331  0.190374  0.000000  0.322331   \n",
              "\n",
              "       runs    starts       the   through      very      with  \n",
              "0  0.000000  0.000000  0.189916  0.000000  0.321556  0.321556  \n",
              "1  0.406676  0.000000  0.240189  0.000000  0.000000  0.000000  \n",
              "2  0.000000  0.322331  0.190374  0.322331  0.000000  0.000000  \n",
              "\n",
              "[3 rows x 24 columns]"
            ]
          },
          "execution_count": 15,
          "metadata": {},
          "output_type": "execute_result"
        }
      ],
      "source": [
        "import pandas as pd\n",
        "from sklearn.feature_extraction.text import TfidfVectorizer\n",
        "\n",
        "vectorizer = TfidfVectorizer()\n",
        "vectors = vectorizer.fit_transform([text1, text2, text3])\n",
        "feature_names = vectorizer.get_feature_names_out()\n",
        "dense = vectors.todense()\n",
        "denselist = dense.tolist()\n",
        "df = pd.DataFrame(denselist, columns=feature_names)\n",
        "df"
      ]
    },
    {
      "cell_type": "code",
      "execution_count": null,
      "metadata": {
        "id": "hEXhgifrHJgF",
        "outputId": "afa5da1d-b91f-4c60-ca3d-36cb5e7b2cac"
      },
      "outputs": [
        {
          "name": "stdout",
          "output_type": "stream",
          "text": [
            "spaCy: v1,v2=0.7745078407989299; v1,v3=0.8224394726859036; v2,v3=0.849330107659573\n",
            "0.774508\n"
          ]
        }
      ],
      "source": [
        "# https://stackoverflow.com/questions/53453559/similarity-in-spacy\n",
        "import numpy as np\n",
        "\n",
        "v1 = nlp(text1)\n",
        "v2 = nlp(text2)\n",
        "v3 = nlp(text3)\n",
        "\n",
        "print(f'spaCy: v1,v2={v1.similarity(v2)}; v1,v3={v1.similarity(v3)}; v2,v3={v2.similarity(v3)}')\n",
        "print(np.dot(v1.vector, v2.vector) / (np.linalg.norm(v1.vector) * np.linalg.norm(v2.vector)))"
      ]
    },
    {
      "cell_type": "markdown",
      "metadata": {
        "id": "h8wp6-xhHJgF"
      },
      "source": [
        "## Word Similarities"
      ]
    },
    {
      "cell_type": "code",
      "execution_count": null,
      "metadata": {
        "id": "gS85jHPuHJgF",
        "outputId": "a18c33a5-37da-44ab-974d-502c2b69fd0a"
      },
      "outputs": [
        {
          "name": "stdout",
          "output_type": "stream",
          "text": [
            "dog True 75.254234 False\n",
            "cat True 63.188496 False\n",
            "banana True 31.620354 False\n",
            "afskfsd False 0.0 True\n"
          ]
        }
      ],
      "source": [
        "tokens = nlp('dog cat banana afskfsd')\n",
        "\n",
        "for token in tokens:\n",
        "    print(token.text, token.has_vector, token.vector_norm, token.is_oov) # oov out-of-vocabulary"
      ]
    },
    {
      "cell_type": "markdown",
      "metadata": {
        "id": "tCOL9SkJHJgF"
      },
      "source": [
        "## Part of Speech (POS)\n",
        "\n",
        "* Words are tagged within a grammatical framework\n",
        "* https://machinelearningknowledge.ai/tutorial-on-spacy-part-of-speech-pos-tagging/"
      ]
    },
    {
      "cell_type": "code",
      "execution_count": null,
      "metadata": {
        "id": "mUTNDQ6gHJgH",
        "outputId": "2bddf5f9-2580-466d-d938-f6e1c6323c31"
      },
      "outputs": [
        {
          "name": "stdout",
          "output_type": "stream",
          "text": [
            "I like to read about data analysis everyday. I read a book on knowledge discovery last night.\n"
          ]
        }
      ],
      "source": [
        "# create spacy doc with u(nicode) string\n",
        "doc = nlp(u\"I like to read about data analysis everyday. I read a book on knowledge discovery last night.\")\n",
        "print(doc.text)"
      ]
    },
    {
      "cell_type": "code",
      "execution_count": null,
      "metadata": {
        "id": "i806ON5JHJgH",
        "outputId": "9779b578-fc9e-4f51-a849-1f64bc66884a"
      },
      "outputs": [
        {
          "name": "stdout",
          "output_type": "stream",
          "text": [
            "I          PRON     PRP    pronoun, personal\n",
            "like       VERB     VBP    verb, non-3rd person singular present\n",
            "to         PART     TO     infinitival \"to\"\n",
            "read       VERB     VB     verb, base form\n",
            "about      ADP      IN     conjunction, subordinating or preposition\n",
            "data       NOUN     NN     noun, singular or mass\n",
            "analysis   NOUN     NN     noun, singular or mass\n",
            "everyday   NOUN     NN     noun, singular or mass\n",
            ".          PUNCT    .      punctuation mark, sentence closer\n",
            "I          PRON     PRP    pronoun, personal\n",
            "read       VERB     VBD    verb, past tense\n",
            "a          DET      DT     determiner\n",
            "book       NOUN     NN     noun, singular or mass\n",
            "on         ADP      IN     conjunction, subordinating or preposition\n",
            "knowledge  NOUN     NN     noun, singular or mass\n",
            "discovery  PROPN    NNP    noun, proper singular\n",
            "last       ADJ      JJ     adjective (English), other noun-modifier (Chinese)\n",
            "night      NOUN     NN     noun, singular or mass\n",
            ".          PUNCT    .      punctuation mark, sentence closer\n"
          ]
        }
      ],
      "source": [
        "for token in doc:\n",
        "    print(f'{token.text:{10}} {token.pos_:{8}} {token.tag_:{6}} {spacy.explain(token.tag_)}')"
      ]
    },
    {
      "cell_type": "markdown",
      "metadata": {
        "id": "gfdZ370ZHJgH"
      },
      "source": [
        "## Named Entity Recognition (NER)\n",
        "\n",
        "* Seeks and classifies text that might be considered proper nouns\n",
        "* GPE: Geographical Entity\n",
        "* Org: Organization"
      ]
    },
    {
      "cell_type": "code",
      "execution_count": null,
      "metadata": {
        "id": "Q9g_g-nnHJgH",
        "outputId": "38198f55-27d8-4dab-fba2-eb42a713cd4b"
      },
      "outputs": [
        {
          "name": "stdout",
          "output_type": "stream",
          "text": [
            "Denton GPE Countries, cities, states\n",
            "Texas GPE Countries, cities, states\n",
            "last night TIME Times smaller than a day\n",
            "WikiData ORG Companies, agencies, institutions, etc.\n"
          ]
        }
      ],
      "source": [
        "doc = nlp(u\"I read about data analysis in Denton Texas everyday. I read a book on knowledge discovery last night from WikiData.\")\n",
        "for ent in doc.ents:\n",
        "    print(ent.text, ent.label_, str(spacy.explain(ent.label_)))"
      ]
    },
    {
      "cell_type": "markdown",
      "metadata": {
        "id": "yfGbKJFcHJgH"
      },
      "source": [
        "## Sentence Segmentation"
      ]
    },
    {
      "cell_type": "code",
      "execution_count": null,
      "metadata": {
        "id": "iIznCMIVHJgH",
        "outputId": "4678217f-e7cb-4ed9-f4b5-b20e62e5ec84"
      },
      "outputs": [
        {
          "name": "stdout",
          "output_type": "stream",
          "text": [
            "I read about data analysis in Denton Texas everyday.\n",
            "I read a book on knowledge discovery last night from WikiData.\n"
          ]
        }
      ],
      "source": [
        "doc = nlp(u\"I read about data analysis in Denton Texas everyday. I read a book on knowledge discovery last night from WikiData.\")\n",
        "for sent in doc.sents:\n",
        "    print(sent)"
      ]
    },
    {
      "cell_type": "markdown",
      "metadata": {
        "id": "l3n5-JF-HJgI"
      },
      "source": [
        "## Topic Modeling\n",
        "\n",
        "Topic modeling helps us\n",
        "\n",
        "* discover hidden, or latent, topics, or themes in documents\n",
        "* summarize documents\n",
        "* search for similar documents\n",
        "* classify documents\n",
        "\n",
        "A document consists of topics and topics consist of words. The same word can be a part of multiple topics and one topic can be part of multiple documents. We can assign probabilities to how relevant a word is in one topic and that probability can be larger or smaller in another topic. The same can be said in the relationship between topics and documents. We can use topics and the words in topics for knowledge discovery without going through the entire document. These latent topics are like clustering, which we’ll cover a little more next week, and since they’re latent, we really don’t know, at first, what the big theme of the topic is so we just say that this group of words belong to topic 1, this group of words to topic 2, and so on. At some point, we might be able to give a topic a name, but it’s not necessary for our purposes. We want to find documents with similar topics because those topics have the same words, or key words, we’re looking for. In a sense, we can start annotating our documents by topics to optimize our searching.\n",
        "\n",
        "\n",
        "### Latent Dirichlet Allocation\n",
        "\n",
        "In natural language processing, Latent Dirichlet Allocation (LDA) is a generative statistical model that explains a set of observations through unobserved groups, and each group explains why some parts of the data are similar. LDA is an example of a topic model. In this, observations (e.g., words) are collected into documents, and each word's presence is attributable to one of the document's topics. Each document will contain a small number of topics.\n",
        "\n",
        "https://en.wikipedia.org/wiki/Latent_Dirichlet_allocation\n",
        "\n",
        "* Documents with similar topics use similar groups of words\n",
        "* Topics can be discovered (latent topics) by finding words that frequently occur together in a document\n",
        "* It's up to the user to label the topics based on the words within that topic (topic with the words Titanic and Carpathia might be Ship Tragedies)\n",
        "* LDA represents documents as probabilities of topics which consists of probabilities of words\n",
        "* LDA requires us to select the number of topics (K), the topics are are latent\n",
        "* Then we randomly assign words in a document to a K topic\n",
        "* Then we find the proportion of words assigned to the topic p(topic t | document d)\n",
        "* We also find p(word w | topic t)\n",
        "* Then we reassign the word to a new topic with p(topic t | document d) * p(word w | topic t)\n",
        "* This is the probability that the topic generated the word\n",
        "* This is done a large number of times till words to topics are acceptable (clustering)\n",
        "\n",
        "We have seen that some probabilities are associated with distributions. Rolling a die is associated with a Uniform Distribution, the number of successes in a sequence of trials is associated with a Binomial Distribution, etc. In the same sense, the probabilities p(topic t | document d) and p(word w | topic t), is associated with a Dirichlet Distribution.\n",
        "\n",
        "https://www.jmlr.org/papers/volume3/blei03a/blei03a.pdf\n",
        "\n",
        "https://highdemandskills.com/topic-modeling-intuitive/\n",
        "\n",
        "### Non-Negative Matrix Factorization\n",
        "\n",
        "Non-Negative Matrix Factorization is a statistical method that helps us to reduce the dimension of the input corpora or corpora. Internally, it uses the factor analysis method to give comparatively less weightage to the words that are having less coherence.\n",
        "\n",
        "https://www.analyticsvidhya.com/blog/2021/06/part-15-step-by-step-guide-to-master-nlp-topic-modelling-using-nmf/\n",
        "\n",
        "* Performs dimensionality reduction and clustering\n",
        "* Used with TF-IDF"
      ]
    }
  ],
  "metadata": {
    "kernelspec": {
      "display_name": "Python 3 (ipykernel)",
      "language": "python",
      "name": "python3"
    },
    "language_info": {
      "codemirror_mode": {
        "name": "ipython",
        "version": 3
      },
      "file_extension": ".py",
      "mimetype": "text/x-python",
      "name": "python",
      "nbconvert_exporter": "python",
      "pygments_lexer": "ipython3",
      "version": "3.9.7"
    },
    "colab": {
      "provenance": []
    }
  },
  "nbformat": 4,
  "nbformat_minor": 0
}