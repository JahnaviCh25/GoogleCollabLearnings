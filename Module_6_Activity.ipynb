{
  "nbformat": 4,
  "nbformat_minor": 0,
  "metadata": {
    "colab": {
      "provenance": []
    },
    "kernelspec": {
      "name": "python3",
      "display_name": "Python 3"
    },
    "language_info": {
      "name": "python"
    }
  },
  "cells": [
    {
      "cell_type": "markdown",
      "source": [
        "# Module 6 Activity Complete\n",
        "\n",
        "By Jahnavi Chintakindi"
      ],
      "metadata": {
        "id": "zuZmqzmMQWPP"
      }
    },
    {
      "cell_type": "markdown",
      "source": [
        "## Data Models and Algorithms\n",
        "\n",
        "Data modeling is the process of creating a visual representation of either a whole information system or parts of it to communicate connections between data points and structures. The goal is to illustrate the types of data used and stored within the system, the relationships among these data types, the ways the data can be grouped and organized and its formats and attributes.\n",
        "\n",
        "https://www.ibm.com/topics/data-modeling\n",
        "\n",
        "* Regression\n",
        "* Classification\n",
        "* Decision Trees\n",
        "\n",
        "Algorithms are run on data to create a model"
      ],
      "metadata": {
        "id": "8GaFnzGFQc21"
      }
    },
    {
      "cell_type": "markdown",
      "source": [
        "## Train Test Split\n",
        "\n",
        "A goal of supervised learning is to build a model that performs well on new data. If you have new data, it’s a good idea to see how your model performs on it. The problem is that you may not have new data, but you can simulate this experience with a procedure like train test split. Train test split is a model validation process that allows you to simulate how your model would perform with new data.\n",
        "\n",
        "https://builtin.com/data-science/train-test-split"
      ],
      "metadata": {
        "id": "EHc0bc_4QiI5"
      }
    },
    {
      "cell_type": "markdown",
      "source": [
        "## Supervised Learning\n",
        "\n",
        "Supervised machine learning is a type of machine learning that learns the relationship between input and output. The inputs are known as features or ‘X variables’  and output is generally referred to as the target or ‘y variable’.\n",
        "\n",
        "https://www.datacamp.com/blog/supervised-machine-learning"
      ],
      "metadata": {
        "id": "WOPf7uJE_54p"
      }
    },
    {
      "cell_type": "markdown",
      "source": [
        "## Signal in the Noise / Patterns in Chaos\n",
        "\n",
        "The signal is the meaningful information that you’re actually trying to detect. The noise is the random, unwanted variation or fluctuation that interferes with the signal.\n",
        "\n",
        "https://conceptually.org/concepts/signal-and-noise\n",
        "\n",
        "Plotly Noise Notebook"
      ],
      "metadata": {
        "id": "Kal1Bct_QkyD"
      }
    },
    {
      "cell_type": "markdown",
      "source": [
        "## Visualizing Patterns\n",
        "\n",
        "Ploty Advertising Notebook"
      ],
      "metadata": {
        "id": "tm_t-uZSQymI"
      }
    },
    {
      "cell_type": "markdown",
      "source": [
        "## Linear Regression\n",
        "\n",
        "* Linear Regression Notebook\n",
        "* Plotly Residuals Notebook"
      ],
      "metadata": {
        "id": "tI9kmXWfRAmf"
      }
    },
    {
      "cell_type": "code",
      "source": [
        "# get the data and print shape, info, and head\n",
        "import pandas as pd\n",
        "\n",
        "url = 'https://raw.githubusercontent.com/gitmystuff/INFO4050/main/Datasets/Advertising.csv'\n",
        "\n",
        "# usecols=['TV', 'radio', 'newspaper', 'sales']\n",
        "# why not index_col=0?\n",
        "\n",
        "advertising = pd.read_csv(url, usecols=['TV', 'radio', 'newspaper', 'sales'])\n",
        "advertising.head()\n",
        "print(advertising.shape)\n",
        "print(advertising.info())"
      ],
      "metadata": {
        "id": "mcPz6WdNCd2G",
        "colab": {
          "base_uri": "https://localhost:8080/"
        },
        "outputId": "995b3294-5ce6-41a3-f9ce-177a3cf7da29"
      },
      "execution_count": null,
      "outputs": [
        {
          "output_type": "stream",
          "name": "stdout",
          "text": [
            "(200, 4)\n",
            "<class 'pandas.core.frame.DataFrame'>\n",
            "RangeIndex: 200 entries, 0 to 199\n",
            "Data columns (total 4 columns):\n",
            " #   Column     Non-Null Count  Dtype  \n",
            "---  ------     --------------  -----  \n",
            " 0   TV         200 non-null    float64\n",
            " 1   radio      200 non-null    float64\n",
            " 2   newspaper  200 non-null    float64\n",
            " 3   sales      200 non-null    float64\n",
            "dtypes: float64(4)\n",
            "memory usage: 6.4 KB\n",
            "None\n"
          ]
        }
      ]
    },
    {
      "cell_type": "code",
      "source": [
        "# train test split\n",
        "from sklearn.model_selection import train_test_split\n",
        "\n",
        "X_train,X_test,y_train,y_test= train_test_split(\n",
        "\n",
        "    advertising.drop('sales',axis=1),\n",
        "\n",
        "    advertising['sales'],\n",
        "\n",
        "    test_size=0.25,\n",
        "\n",
        "    random_state=42\n",
        "\n",
        ")\n",
        "print(X_train.shape)\n",
        "print(X_test.shape)"
      ],
      "metadata": {
        "id": "HPZ40HBzCujV",
        "colab": {
          "base_uri": "https://localhost:8080/"
        },
        "outputId": "1c47f13b-4764-4076-870c-2dfec5193661"
      },
      "execution_count": null,
      "outputs": [
        {
          "output_type": "stream",
          "name": "stdout",
          "text": [
            "(150, 3)\n",
            "(50, 3)\n"
          ]
        }
      ]
    },
    {
      "cell_type": "code",
      "source": [
        "# create and train the model\n",
        "from sklearn.linear_model import LinearRegression\n",
        "from sklearn.metrics import mean_squared_error, r2_score\n",
        "\n",
        "model = LinearRegression()\n",
        "model.fit(X_train, y_train)\n",
        "\n",
        "yhat = model.predict(X_test)\n",
        "print(mean_squared_error(y_test, yhat))\n",
        "print(r2_score(y_test, yhat))"
      ],
      "metadata": {
        "id": "5T3u7pAfCw9j",
        "colab": {
          "base_uri": "https://localhost:8080/"
        },
        "outputId": "b588dbbb-4b04-4c5f-8ebd-d13246ccc9c7"
      },
      "execution_count": null,
      "outputs": [
        {
          "output_type": "stream",
          "name": "stdout",
          "text": [
            "2.880023730094193\n",
            "0.8935163320163657\n"
          ]
        }
      ]
    },
    {
      "cell_type": "markdown",
      "source": [
        "## Metrics and Coefficients\n",
        "\n",
        "* Linear Regression Metrics and Coefficients Notebook"
      ],
      "metadata": {
        "id": "rNcXzEMSR-Sm"
      }
    },
    {
      "cell_type": "markdown",
      "source": [
        "### Least Squares\n",
        "\n",
        "* The least squares method is a statistical procedure to find the best fit for a set of data points. The method works by minimizing the sum of the offsets or residuals of points from the plotted curve.\n",
        "* https://www.investopedia.com/terms/l/least-squares-method.asp"
      ],
      "metadata": {
        "id": "wu76RzgRhga_"
      }
    },
    {
      "cell_type": "markdown",
      "source": [
        "### The Constant\n",
        "\n",
        "* To include or not to include the CONSTANT? Most multiple regression models include a constant term, since this ensures that the model will be \"unbiased\"--i.e., the mean of the residuals will be exactly zero.\n",
        "* You expect your dependent variable to take a nonzero value when all the otherwise included regressors are set to zero.\n",
        "* Example: Suppose you want to model the wage as a function of years of secondary schooling (in years). You’d estimate an equation of the form because one can reasonably expect the wage to take, on average, a positive value even if one's secondary schooling is null. This value would show up as a constant.\n",
        "* This 'y-intercept' also serves as a benchmark\n",
        "\n",
        "Sources\n",
        "* https://people.duke.edu/~rnau/Decision411_2007/regnotes.htm#:~:text=the%20LOGARITHM%20transformation-,To%20include%20or%20not%20to%20include%20the%20CONSTANT%3F,residuals%20will%20be%20exactly%20zero.\n",
        "* https://www.quora.com/In-regression-why-do-we-include-a-constant-term\n"
      ],
      "metadata": {
        "id": "t2Wlh2TvC-Cp"
      }
    },
    {
      "cell_type": "code",
      "source": [
        "# create statsmodel OLS and print summary\n",
        "import statsmodels.api as sm\n",
        "\n",
        "X_train.insert(0, 'const', 1)\n",
        "model = sm.OLS(y_train, X_train).fit()\n",
        "model.summary()"
      ],
      "metadata": {
        "id": "3YXS3zMPD7rB",
        "colab": {
          "base_uri": "https://localhost:8080/",
          "height": 494
        },
        "outputId": "742f6400-3a7f-429a-e36a-4023373bb5ea"
      },
      "execution_count": null,
      "outputs": [
        {
          "output_type": "execute_result",
          "data": {
            "text/plain": [
              "<class 'statsmodels.iolib.summary.Summary'>\n",
              "\"\"\"\n",
              "                            OLS Regression Results                            \n",
              "==============================================================================\n",
              "Dep. Variable:                  sales   R-squared:                       0.897\n",
              "Model:                            OLS   Adj. R-squared:                  0.895\n",
              "Method:                 Least Squares   F-statistic:                     422.2\n",
              "Date:                Fri, 29 Sep 2023   Prob (F-statistic):           1.02e-71\n",
              "Time:                        20:24:25   Log-Likelihood:                -289.20\n",
              "No. Observations:                 150   AIC:                             586.4\n",
              "Df Residuals:                     146   BIC:                             598.4\n",
              "Df Model:                           3                                         \n",
              "Covariance Type:            nonrobust                                         \n",
              "==============================================================================\n",
              "                 coef    std err          t      P>|t|      [0.025      0.975]\n",
              "------------------------------------------------------------------------------\n",
              "const          2.7783      0.375      7.415      0.000       2.038       3.519\n",
              "TV             0.0454      0.002     27.960      0.000       0.042       0.049\n",
              "radio          0.1915      0.010     19.076      0.000       0.172       0.211\n",
              "newspaper      0.0026      0.007      0.356      0.722      -0.012       0.017\n",
              "==============================================================================\n",
              "Omnibus:                       61.891   Durbin-Watson:                   2.153\n",
              "Prob(Omnibus):                  0.000   Jarque-Bera (JB):              206.420\n",
              "Skew:                          -1.581   Prob(JB):                     1.50e-45\n",
              "Kurtosis:                       7.799   Cond. No.                         485.\n",
              "==============================================================================\n",
              "\n",
              "Notes:\n",
              "[1] Standard Errors assume that the covariance matrix of the errors is correctly specified.\n",
              "\"\"\""
            ],
            "text/html": [
              "<table class=\"simpletable\">\n",
              "<caption>OLS Regression Results</caption>\n",
              "<tr>\n",
              "  <th>Dep. Variable:</th>          <td>sales</td>      <th>  R-squared:         </th> <td>   0.897</td>\n",
              "</tr>\n",
              "<tr>\n",
              "  <th>Model:</th>                   <td>OLS</td>       <th>  Adj. R-squared:    </th> <td>   0.895</td>\n",
              "</tr>\n",
              "<tr>\n",
              "  <th>Method:</th>             <td>Least Squares</td>  <th>  F-statistic:       </th> <td>   422.2</td>\n",
              "</tr>\n",
              "<tr>\n",
              "  <th>Date:</th>             <td>Fri, 29 Sep 2023</td> <th>  Prob (F-statistic):</th> <td>1.02e-71</td>\n",
              "</tr>\n",
              "<tr>\n",
              "  <th>Time:</th>                 <td>20:24:25</td>     <th>  Log-Likelihood:    </th> <td> -289.20</td>\n",
              "</tr>\n",
              "<tr>\n",
              "  <th>No. Observations:</th>      <td>   150</td>      <th>  AIC:               </th> <td>   586.4</td>\n",
              "</tr>\n",
              "<tr>\n",
              "  <th>Df Residuals:</th>          <td>   146</td>      <th>  BIC:               </th> <td>   598.4</td>\n",
              "</tr>\n",
              "<tr>\n",
              "  <th>Df Model:</th>              <td>     3</td>      <th>                     </th>     <td> </td>   \n",
              "</tr>\n",
              "<tr>\n",
              "  <th>Covariance Type:</th>      <td>nonrobust</td>    <th>                     </th>     <td> </td>   \n",
              "</tr>\n",
              "</table>\n",
              "<table class=\"simpletable\">\n",
              "<tr>\n",
              "      <td></td>         <th>coef</th>     <th>std err</th>      <th>t</th>      <th>P>|t|</th>  <th>[0.025</th>    <th>0.975]</th>  \n",
              "</tr>\n",
              "<tr>\n",
              "  <th>const</th>     <td>    2.7783</td> <td>    0.375</td> <td>    7.415</td> <td> 0.000</td> <td>    2.038</td> <td>    3.519</td>\n",
              "</tr>\n",
              "<tr>\n",
              "  <th>TV</th>        <td>    0.0454</td> <td>    0.002</td> <td>   27.960</td> <td> 0.000</td> <td>    0.042</td> <td>    0.049</td>\n",
              "</tr>\n",
              "<tr>\n",
              "  <th>radio</th>     <td>    0.1915</td> <td>    0.010</td> <td>   19.076</td> <td> 0.000</td> <td>    0.172</td> <td>    0.211</td>\n",
              "</tr>\n",
              "<tr>\n",
              "  <th>newspaper</th> <td>    0.0026</td> <td>    0.007</td> <td>    0.356</td> <td> 0.722</td> <td>   -0.012</td> <td>    0.017</td>\n",
              "</tr>\n",
              "</table>\n",
              "<table class=\"simpletable\">\n",
              "<tr>\n",
              "  <th>Omnibus:</th>       <td>61.891</td> <th>  Durbin-Watson:     </th> <td>   2.153</td>\n",
              "</tr>\n",
              "<tr>\n",
              "  <th>Prob(Omnibus):</th> <td> 0.000</td> <th>  Jarque-Bera (JB):  </th> <td> 206.420</td>\n",
              "</tr>\n",
              "<tr>\n",
              "  <th>Skew:</th>          <td>-1.581</td> <th>  Prob(JB):          </th> <td>1.50e-45</td>\n",
              "</tr>\n",
              "<tr>\n",
              "  <th>Kurtosis:</th>      <td> 7.799</td> <th>  Cond. No.          </th> <td>    485.</td>\n",
              "</tr>\n",
              "</table><br/><br/>Notes:<br/>[1] Standard Errors assume that the covariance matrix of the errors is correctly specified."
            ],
            "text/latex": "\\begin{center}\n\\begin{tabular}{lclc}\n\\toprule\n\\textbf{Dep. Variable:}    &      sales       & \\textbf{  R-squared:         } &     0.897   \\\\\n\\textbf{Model:}            &       OLS        & \\textbf{  Adj. R-squared:    } &     0.895   \\\\\n\\textbf{Method:}           &  Least Squares   & \\textbf{  F-statistic:       } &     422.2   \\\\\n\\textbf{Date:}             & Fri, 29 Sep 2023 & \\textbf{  Prob (F-statistic):} &  1.02e-71   \\\\\n\\textbf{Time:}             &     20:24:25     & \\textbf{  Log-Likelihood:    } &   -289.20   \\\\\n\\textbf{No. Observations:} &         150      & \\textbf{  AIC:               } &     586.4   \\\\\n\\textbf{Df Residuals:}     &         146      & \\textbf{  BIC:               } &     598.4   \\\\\n\\textbf{Df Model:}         &           3      & \\textbf{                     } &             \\\\\n\\textbf{Covariance Type:}  &    nonrobust     & \\textbf{                     } &             \\\\\n\\bottomrule\n\\end{tabular}\n\\begin{tabular}{lcccccc}\n                   & \\textbf{coef} & \\textbf{std err} & \\textbf{t} & \\textbf{P$> |$t$|$} & \\textbf{[0.025} & \\textbf{0.975]}  \\\\\n\\midrule\n\\textbf{const}     &       2.7783  &        0.375     &     7.415  &         0.000        &        2.038    &        3.519     \\\\\n\\textbf{TV}        &       0.0454  &        0.002     &    27.960  &         0.000        &        0.042    &        0.049     \\\\\n\\textbf{radio}     &       0.1915  &        0.010     &    19.076  &         0.000        &        0.172    &        0.211     \\\\\n\\textbf{newspaper} &       0.0026  &        0.007     &     0.356  &         0.722        &       -0.012    &        0.017     \\\\\n\\bottomrule\n\\end{tabular}\n\\begin{tabular}{lclc}\n\\textbf{Omnibus:}       & 61.891 & \\textbf{  Durbin-Watson:     } &    2.153  \\\\\n\\textbf{Prob(Omnibus):} &  0.000 & \\textbf{  Jarque-Bera (JB):  } &  206.420  \\\\\n\\textbf{Skew:}          & -1.581 & \\textbf{  Prob(JB):          } & 1.50e-45  \\\\\n\\textbf{Kurtosis:}      &  7.799 & \\textbf{  Cond. No.          } &     485.  \\\\\n\\bottomrule\n\\end{tabular}\n%\\caption{OLS Regression Results}\n\\end{center}\n\nNotes: \\newline\n [1] Standard Errors assume that the covariance matrix of the errors is correctly specified."
          },
          "metadata": {},
          "execution_count": 7
        }
      ]
    },
    {
      "cell_type": "markdown",
      "source": [
        "### Other Libraries to Help Find Coefficients"
      ],
      "metadata": {
        "id": "6xnE_5D2ZOQH"
      }
    },
    {
      "cell_type": "code",
      "source": [
        "# using scipy\n",
        "import numpy as np\n",
        "import scipy.stats as stats\n",
        "\n",
        "x=np.array([1,2,3,4,5])\n",
        "y=np.array([1,3,2,3,5])\n",
        "\n",
        "model=stats.linregress(x,y)\n",
        "print(model.intercept,model.slope)\n",
        "print(model)"
      ],
      "metadata": {
        "id": "PDHKUhmyZRBb",
        "colab": {
          "base_uri": "https://localhost:8080/"
        },
        "outputId": "c77d0869-c0ec-4636-8b98-e4ae0e6c571d"
      },
      "execution_count": null,
      "outputs": [
        {
          "output_type": "stream",
          "name": "stdout",
          "text": [
            "0.39999999999999947 0.8\n",
            "LinregressResult(slope=0.8, intercept=0.39999999999999947, rvalue=0.8528028654224418, pvalue=0.0662756027415242, stderr=0.282842712474619, intercept_stderr=0.9380831519646858)\n"
          ]
        }
      ]
    },
    {
      "cell_type": "code",
      "source": [
        "# use numpy linear algebra least squares\n",
        "x = np.vstack([np.ones(len(x)),x]).T\n",
        "\n",
        "print(x)\n",
        "print(y)\n",
        "\n",
        "a,b = np.linalg.lstsq(x,y, rcond=None)[0]\n",
        "print(a)\n",
        "print(b)"
      ],
      "metadata": {
        "id": "FQylzasJZmJR",
        "colab": {
          "base_uri": "https://localhost:8080/"
        },
        "outputId": "7ffb0f1f-3aa1-422e-eb8f-e770cc126d34"
      },
      "execution_count": null,
      "outputs": [
        {
          "output_type": "stream",
          "name": "stdout",
          "text": [
            "[[1. 1.]\n",
            " [1. 2.]\n",
            " [1. 3.]\n",
            " [1. 4.]\n",
            " [1. 5.]]\n",
            "[1 3 2 3 5]\n",
            "0.39999999999999863\n",
            "0.8\n"
          ]
        }
      ]
    },
    {
      "cell_type": "markdown",
      "source": [
        "## Other Types of Regression\n",
        "\n",
        "* More Regression Notebook"
      ],
      "metadata": {
        "id": "aLxgi08cRIxa"
      }
    },
    {
      "cell_type": "markdown",
      "source": [
        "## Linear Algebra\n",
        "\n",
        "An error terms is sometimes associated with the first formula but we can detete that because it is unobservable and uncontrollable\n",
        "\n",
        "* $y_i = \\theta^TX_i$\n",
        "* $h_\\theta(x) = \\theta_0 + \\theta_1x_1 ... \\theta_nx_n$\n",
        "\n",
        "Sources\n",
        "\n",
        "* https://www.investopedia.com/terms/e/errorterm.asp\n"
      ],
      "metadata": {
        "id": "EGe_YM3DZ834"
      }
    },
    {
      "cell_type": "markdown",
      "source": [
        "### System of Linear Equations\n",
        "\n",
        "Consider:\n",
        "<pre>\n",
        "4x1 - 2x2 +  x3 =  3\n",
        "-x1 + 7x2 -  x3 = 10\n",
        " x1 +  x2 - 2x3 = -3\n",
        "</pre>\n",
        "\n",
        "Then\n",
        "<pre>\n",
        " 4 -2  1  | x1 |  3\n",
        "-1  7 -1  | x2 | 10\n",
        " 1  1  2  | x3 | -3\n",
        "</pre>\n",
        "\n",
        "#### Gaussian Elimination Method\n",
        "\n",
        "* Multiply any row by any number\n",
        "* add any row to another row\n",
        "* swap any rows\n",
        "\n",
        "#### Example\n",
        "\n",
        "<pre>\n",
        "x1 + x2 - 2x3 = -3\n",
        "    3x2 - 3x3 = 7\n",
        "       6.75x3 = 20.25\n",
        "</pre>\n",
        "\n",
        "Source:\n",
        "* https://math.libretexts.org/Bookshelves/Linear_Algebra/Matrix_Algebra_with_Computational_Applications_%28Colbry%29/07%3A_04_Pre-Class_Assignment_-_Python_Linear_Algebra_Packages/7.1%3A_The_Syntax_for_Systems_of_Linear_Equations\n",
        "* https://medium.com/datadenys/solving-systems-of-linear-equations-using-matrices-and-python-5e203a9ea146"
      ],
      "metadata": {
        "id": "p7gimgLEWt1O"
      }
    },
    {
      "cell_type": "markdown",
      "source": [
        "### Vectors, Matrices, and Scalars\n",
        "\n",
        "#### Vectors\n",
        "\n",
        "* https://www.mathsisfun.com/algebra/scalar-vector-matrix.html (scroll down to see image)\n",
        "* vector has magnitude $\\sqrt{x^2 + y^2}$ and direction $\\angle 45^{\\circ}$\n",
        "* vector = ($x_1$, $x_2$) = $r \\angle \\theta$\n",
        "* Note: r can be thought of as $\\beta$ and $\\angle\\theta$ as $\\alpha$ in $y=\\alpha X + \\beta$\n",
        "* $\\hat{i} = (1, 0)$ unit vector (1 step)\n",
        "* $\\hat{j} = (0, 1)$ unit vector (1 step)\n",
        "* $\\vec{v} = x_1\\hat{i} + x_2\\hat{j}$; $v$ is also represented as bold\n",
        "* vector addition is head to tail or elementwise i.e., $\\sum({x_{1i} + x_{2i}})$\n",
        "* dot product is elementwise or $\\sum{x_{1i} x_{2i}}$\n",
        "* or $||x|| * ||y|| * cos(\\theta)$\n",
        "* if $\\vec{x_1} \\vec{x_2} = 0$ (orthogonal) then $x_1$ and $x_2$ are uncorrelated\n",
        "* rows (the numbers) in a dataframe (each row can be thought of as a sample) are examples of vectors\n",
        "\n",
        "#### Vector Equation\n",
        "\n",
        "* Vector equations ares used to represent the equation of a line or a plane with the help of the variables x, y, z.\n",
        "* https://www.cuemath.com/algebra/vector-equation/\n",
        "* $r = a + t\\vec{AB}$\n",
        "* https://www.w3schools.blog/cartesian-equation-and-vector-equation-of-a-line\n",
        "\n",
        "\n",
        "#### Matrix or Matrices\n",
        "\n",
        "* A dataframe (numerical) can be considered a matrix (rows by cols matrix is convention used in this class)\n",
        "* Matrix representation of graph: rows = [a, b, c]; cols = [a, b, c]\n",
        "* [a, a] = 1 (diagonal of 1s with b,b, c,c ...)\n",
        "* And, for example, all off diagonals such as [a, b] = 0 etc\n",
        "* Graph matrix\n",
        "* Covariance matrix\n",
        "* Probability matrix\n",
        "* Vector matrix: by convention are represented by column vectors"
      ],
      "metadata": {
        "id": "Isu5rLk3RNKh"
      }
    },
    {
      "cell_type": "code",
      "source": [
        "import pandas as pd\n",
        "\n",
        "data = {'a': [1, 0, 0], 'b': [0, 1, 0], 'c': [0, 0, 1]}\n",
        "pd.DataFrame(data, index=['a', 'b', 'c'])"
      ],
      "metadata": {
        "colab": {
          "base_uri": "https://localhost:8080/",
          "height": 143
        },
        "id": "022JMxKAUEEd",
        "outputId": "44d22172-ae77-47ec-954c-77afe2194d07"
      },
      "execution_count": null,
      "outputs": [
        {
          "output_type": "execute_result",
          "data": {
            "text/plain": [
              "   a  b  c\n",
              "a  1  0  0\n",
              "b  0  1  0\n",
              "c  0  0  1"
            ],
            "text/html": [
              "\n",
              "  <div id=\"df-24ff0738-b302-47a2-895a-b6dee34aed09\" class=\"colab-df-container\">\n",
              "    <div>\n",
              "<style scoped>\n",
              "    .dataframe tbody tr th:only-of-type {\n",
              "        vertical-align: middle;\n",
              "    }\n",
              "\n",
              "    .dataframe tbody tr th {\n",
              "        vertical-align: top;\n",
              "    }\n",
              "\n",
              "    .dataframe thead th {\n",
              "        text-align: right;\n",
              "    }\n",
              "</style>\n",
              "<table border=\"1\" class=\"dataframe\">\n",
              "  <thead>\n",
              "    <tr style=\"text-align: right;\">\n",
              "      <th></th>\n",
              "      <th>a</th>\n",
              "      <th>b</th>\n",
              "      <th>c</th>\n",
              "    </tr>\n",
              "  </thead>\n",
              "  <tbody>\n",
              "    <tr>\n",
              "      <th>a</th>\n",
              "      <td>1</td>\n",
              "      <td>0</td>\n",
              "      <td>0</td>\n",
              "    </tr>\n",
              "    <tr>\n",
              "      <th>b</th>\n",
              "      <td>0</td>\n",
              "      <td>1</td>\n",
              "      <td>0</td>\n",
              "    </tr>\n",
              "    <tr>\n",
              "      <th>c</th>\n",
              "      <td>0</td>\n",
              "      <td>0</td>\n",
              "      <td>1</td>\n",
              "    </tr>\n",
              "  </tbody>\n",
              "</table>\n",
              "</div>\n",
              "    <div class=\"colab-df-buttons\">\n",
              "\n",
              "  <div class=\"colab-df-container\">\n",
              "    <button class=\"colab-df-convert\" onclick=\"convertToInteractive('df-24ff0738-b302-47a2-895a-b6dee34aed09')\"\n",
              "            title=\"Convert this dataframe to an interactive table.\"\n",
              "            style=\"display:none;\">\n",
              "\n",
              "  <svg xmlns=\"http://www.w3.org/2000/svg\" height=\"24px\" viewBox=\"0 -960 960 960\">\n",
              "    <path d=\"M120-120v-720h720v720H120Zm60-500h600v-160H180v160Zm220 220h160v-160H400v160Zm0 220h160v-160H400v160ZM180-400h160v-160H180v160Zm440 0h160v-160H620v160ZM180-180h160v-160H180v160Zm440 0h160v-160H620v160Z\"/>\n",
              "  </svg>\n",
              "    </button>\n",
              "\n",
              "  <style>\n",
              "    .colab-df-container {\n",
              "      display:flex;\n",
              "      gap: 12px;\n",
              "    }\n",
              "\n",
              "    .colab-df-convert {\n",
              "      background-color: #E8F0FE;\n",
              "      border: none;\n",
              "      border-radius: 50%;\n",
              "      cursor: pointer;\n",
              "      display: none;\n",
              "      fill: #1967D2;\n",
              "      height: 32px;\n",
              "      padding: 0 0 0 0;\n",
              "      width: 32px;\n",
              "    }\n",
              "\n",
              "    .colab-df-convert:hover {\n",
              "      background-color: #E2EBFA;\n",
              "      box-shadow: 0px 1px 2px rgba(60, 64, 67, 0.3), 0px 1px 3px 1px rgba(60, 64, 67, 0.15);\n",
              "      fill: #174EA6;\n",
              "    }\n",
              "\n",
              "    .colab-df-buttons div {\n",
              "      margin-bottom: 4px;\n",
              "    }\n",
              "\n",
              "    [theme=dark] .colab-df-convert {\n",
              "      background-color: #3B4455;\n",
              "      fill: #D2E3FC;\n",
              "    }\n",
              "\n",
              "    [theme=dark] .colab-df-convert:hover {\n",
              "      background-color: #434B5C;\n",
              "      box-shadow: 0px 1px 3px 1px rgba(0, 0, 0, 0.15);\n",
              "      filter: drop-shadow(0px 1px 2px rgba(0, 0, 0, 0.3));\n",
              "      fill: #FFFFFF;\n",
              "    }\n",
              "  </style>\n",
              "\n",
              "    <script>\n",
              "      const buttonEl =\n",
              "        document.querySelector('#df-24ff0738-b302-47a2-895a-b6dee34aed09 button.colab-df-convert');\n",
              "      buttonEl.style.display =\n",
              "        google.colab.kernel.accessAllowed ? 'block' : 'none';\n",
              "\n",
              "      async function convertToInteractive(key) {\n",
              "        const element = document.querySelector('#df-24ff0738-b302-47a2-895a-b6dee34aed09');\n",
              "        const dataTable =\n",
              "          await google.colab.kernel.invokeFunction('convertToInteractive',\n",
              "                                                    [key], {});\n",
              "        if (!dataTable) return;\n",
              "\n",
              "        const docLinkHtml = 'Like what you see? Visit the ' +\n",
              "          '<a target=\"_blank\" href=https://colab.research.google.com/notebooks/data_table.ipynb>data table notebook</a>'\n",
              "          + ' to learn more about interactive tables.';\n",
              "        element.innerHTML = '';\n",
              "        dataTable['output_type'] = 'display_data';\n",
              "        await google.colab.output.renderOutput(dataTable, element);\n",
              "        const docLink = document.createElement('div');\n",
              "        docLink.innerHTML = docLinkHtml;\n",
              "        element.appendChild(docLink);\n",
              "      }\n",
              "    </script>\n",
              "  </div>\n",
              "\n",
              "\n",
              "<div id=\"df-d7f8fa9a-33f4-4506-a7a4-aa9934613e0f\">\n",
              "  <button class=\"colab-df-quickchart\" onclick=\"quickchart('df-d7f8fa9a-33f4-4506-a7a4-aa9934613e0f')\"\n",
              "            title=\"Suggest charts.\"\n",
              "            style=\"display:none;\">\n",
              "\n",
              "<svg xmlns=\"http://www.w3.org/2000/svg\" height=\"24px\"viewBox=\"0 0 24 24\"\n",
              "     width=\"24px\">\n",
              "    <g>\n",
              "        <path d=\"M19 3H5c-1.1 0-2 .9-2 2v14c0 1.1.9 2 2 2h14c1.1 0 2-.9 2-2V5c0-1.1-.9-2-2-2zM9 17H7v-7h2v7zm4 0h-2V7h2v10zm4 0h-2v-4h2v4z\"/>\n",
              "    </g>\n",
              "</svg>\n",
              "  </button>\n",
              "\n",
              "<style>\n",
              "  .colab-df-quickchart {\n",
              "      --bg-color: #E8F0FE;\n",
              "      --fill-color: #1967D2;\n",
              "      --hover-bg-color: #E2EBFA;\n",
              "      --hover-fill-color: #174EA6;\n",
              "      --disabled-fill-color: #AAA;\n",
              "      --disabled-bg-color: #DDD;\n",
              "  }\n",
              "\n",
              "  [theme=dark] .colab-df-quickchart {\n",
              "      --bg-color: #3B4455;\n",
              "      --fill-color: #D2E3FC;\n",
              "      --hover-bg-color: #434B5C;\n",
              "      --hover-fill-color: #FFFFFF;\n",
              "      --disabled-bg-color: #3B4455;\n",
              "      --disabled-fill-color: #666;\n",
              "  }\n",
              "\n",
              "  .colab-df-quickchart {\n",
              "    background-color: var(--bg-color);\n",
              "    border: none;\n",
              "    border-radius: 50%;\n",
              "    cursor: pointer;\n",
              "    display: none;\n",
              "    fill: var(--fill-color);\n",
              "    height: 32px;\n",
              "    padding: 0;\n",
              "    width: 32px;\n",
              "  }\n",
              "\n",
              "  .colab-df-quickchart:hover {\n",
              "    background-color: var(--hover-bg-color);\n",
              "    box-shadow: 0 1px 2px rgba(60, 64, 67, 0.3), 0 1px 3px 1px rgba(60, 64, 67, 0.15);\n",
              "    fill: var(--button-hover-fill-color);\n",
              "  }\n",
              "\n",
              "  .colab-df-quickchart-complete:disabled,\n",
              "  .colab-df-quickchart-complete:disabled:hover {\n",
              "    background-color: var(--disabled-bg-color);\n",
              "    fill: var(--disabled-fill-color);\n",
              "    box-shadow: none;\n",
              "  }\n",
              "\n",
              "  .colab-df-spinner {\n",
              "    border: 2px solid var(--fill-color);\n",
              "    border-color: transparent;\n",
              "    border-bottom-color: var(--fill-color);\n",
              "    animation:\n",
              "      spin 1s steps(1) infinite;\n",
              "  }\n",
              "\n",
              "  @keyframes spin {\n",
              "    0% {\n",
              "      border-color: transparent;\n",
              "      border-bottom-color: var(--fill-color);\n",
              "      border-left-color: var(--fill-color);\n",
              "    }\n",
              "    20% {\n",
              "      border-color: transparent;\n",
              "      border-left-color: var(--fill-color);\n",
              "      border-top-color: var(--fill-color);\n",
              "    }\n",
              "    30% {\n",
              "      border-color: transparent;\n",
              "      border-left-color: var(--fill-color);\n",
              "      border-top-color: var(--fill-color);\n",
              "      border-right-color: var(--fill-color);\n",
              "    }\n",
              "    40% {\n",
              "      border-color: transparent;\n",
              "      border-right-color: var(--fill-color);\n",
              "      border-top-color: var(--fill-color);\n",
              "    }\n",
              "    60% {\n",
              "      border-color: transparent;\n",
              "      border-right-color: var(--fill-color);\n",
              "    }\n",
              "    80% {\n",
              "      border-color: transparent;\n",
              "      border-right-color: var(--fill-color);\n",
              "      border-bottom-color: var(--fill-color);\n",
              "    }\n",
              "    90% {\n",
              "      border-color: transparent;\n",
              "      border-bottom-color: var(--fill-color);\n",
              "    }\n",
              "  }\n",
              "</style>\n",
              "\n",
              "  <script>\n",
              "    async function quickchart(key) {\n",
              "      const quickchartButtonEl =\n",
              "        document.querySelector('#' + key + ' button');\n",
              "      quickchartButtonEl.disabled = true;  // To prevent multiple clicks.\n",
              "      quickchartButtonEl.classList.add('colab-df-spinner');\n",
              "      try {\n",
              "        const charts = await google.colab.kernel.invokeFunction(\n",
              "            'suggestCharts', [key], {});\n",
              "      } catch (error) {\n",
              "        console.error('Error during call to suggestCharts:', error);\n",
              "      }\n",
              "      quickchartButtonEl.classList.remove('colab-df-spinner');\n",
              "      quickchartButtonEl.classList.add('colab-df-quickchart-complete');\n",
              "    }\n",
              "    (() => {\n",
              "      let quickchartButtonEl =\n",
              "        document.querySelector('#df-d7f8fa9a-33f4-4506-a7a4-aa9934613e0f button');\n",
              "      quickchartButtonEl.style.display =\n",
              "        google.colab.kernel.accessAllowed ? 'block' : 'none';\n",
              "    })();\n",
              "  </script>\n",
              "</div>\n",
              "    </div>\n",
              "  </div>\n"
            ]
          },
          "metadata": {},
          "execution_count": 6
        }
      ]
    },
    {
      "cell_type": "markdown",
      "source": [
        "#### Matrix Multiplication\n",
        "\n",
        "* To multiply an m×n matrix by an n×p matrix, the ns must be the same,\n",
        "and the result is an m×p matrix\n",
        "* Instead of an element-wise product, matrix multiplication is more like a generalization of the dot product. Specifically, you we have $C = AB$, then $c_{ij}$ is the dot product between the ith row of A and the jth row of B\n",
        "\n",
        "Sources:\n",
        "* https://towardsdatascience.com/a-complete-beginners-guide-to-matrix-multiplication-for-data-science-with-python-numpy-9274ecfc1dc6\n",
        "* https://mathinsight.org/matrix_vector_multiplication\n",
        "* https://timeseriesreasoning.com/contents/deep-dive-into-variance-covariance-matrices/\n",
        "* Deep Learning Courses by the Lazy Programmer\n",
        "\n",
        "#### Dot Product\n",
        "\n",
        "* The numpy dot() function returns the dot product of two arrays. The result is the same as the matmul() function for one-dimensional and two-dimensional arrays\n",
        "* dot product is the sum of two same size matrices, $\\sum{x_{1i} x_{2i}}$ vs. element-wise which returns a similar matrix\n",
        "* Another approach: $||x|| * ||y|| * cos(\\theta)$ (magnitude and direction or angle between vectors)\n",
        "\n",
        "Source:\n",
        "\n",
        "* https://www.digitalocean.com/community/tutorials/numpy-matrix-multiplication#:~:text=The%20numpy%20dot()%20function,dimensional%20and%20two%2Ddimensional%20arrays.\n",
        "\n",
        "#### Identity Matrix\n",
        "\n",
        "* In linear algebra, the identity matrix of size n is the n x n square matrix with ones on the main diagonal and zeros off diagonal. It has unique properties, for example when the identity matrix represents a geometric transformation, the object remains unchanged by the transformation. In other contexts, it is analogous to multiplying by the number 1.\n",
        "* A square matrix * the inverse of itself equals the identity matrix\n",
        "\n",
        "Source:\n",
        "* https://en.wikipedia.org/wiki/Identity_matrix\n",
        "\n",
        "#### Matrix Inverse\n",
        "\n",
        "* Gaussian Elimination Method can be used to get the inverse of a matrix\n",
        "* Matrix inverse of $X$ is $X^{-1}$\n",
        "* $X^{-1}X = XX^{-1} = I$\n",
        "* Inverse Example: $8x = 6$ is like saying $x = 6/8 = 6*8^{-1}$\n",
        "* $1/4 * 4 = 4^{-1} * 4 = 1$\n",
        "* Negative exponents serve as roots e.g. since $4^3 = 64$, then $64^{-3} = \\sqrt[3]{64} = 4$\n",
        "\n",
        "#### Matrix Transform\n",
        "\n",
        "* Transforms rows to columns and vice versa\n",
        "* A row vector gets transformed to a column vector\n",
        "* Notation: matrix.T\n",
        "* Serves the (m, n) * (n, p) requirement"
      ],
      "metadata": {
        "id": "zhZa7gImVGtb"
      }
    },
    {
      "cell_type": "code",
      "source": [
        "# matmul\n",
        "import numpy as np\n",
        "\n",
        "x = np.array([1, 2, 3, 4, 5])\n",
        "print(x)\n",
        "y = np.array([[1], [3], [2], [3], [5]])\n",
        "print(y)\n",
        "print()\n",
        "print('matrix(m, n) * matrix(n, p)')\n",
        "print(np.matmul(x, y))"
      ],
      "metadata": {
        "colab": {
          "base_uri": "https://localhost:8080/"
        },
        "id": "rsSqHyyUzZKI",
        "outputId": "2f56cf84-21ec-4906-d170-233b11cc347f"
      },
      "execution_count": null,
      "outputs": [
        {
          "output_type": "stream",
          "name": "stdout",
          "text": [
            "[1 2 3 4 5]\n",
            "[[1]\n",
            " [3]\n",
            " [2]\n",
            " [3]\n",
            " [5]]\n",
            "\n",
            "matrix(m, n) * matrix(n, p)\n",
            "[50]\n"
          ]
        }
      ]
    },
    {
      "cell_type": "code",
      "source": [
        "import numpy as np\n",
        "import pandas as pd\n",
        "\n",
        "def xy(r):\n",
        "    return r.x * r.y\n",
        "\n",
        "x = np.array([1, 2, 3, 4, 5])\n",
        "print(x)\n",
        "y = np.array([1, 3, 2, 3, 5])\n",
        "print(y)\n",
        "m_table = pd.DataFrame({'x': x, 'y': y})\n",
        "print('table of sums')\n",
        "N = len(x)\n",
        "\n",
        "m_table['x^2'] = m_table['x'].apply(lambda x: x**2)\n",
        "m_table['xy'] = m_table.apply(xy, axis=1)\n",
        "print(m_table.to_string(index=False))\n",
        "sums = list(m_table.sum())\n",
        "print('sums:', sums)\n",
        "print()\n",
        "\n",
        "x = np.vstack([np.ones(len(x)).astype(int), x])\n",
        "print('x')\n",
        "print(x)\n",
        "\n",
        "print('x.T')\n",
        "print(x.T)\n",
        "print()\n",
        "\n",
        "print('y')\n",
        "print(y)\n",
        "\n",
        "# For a 1-D array, this returns an unchanged view of the original array, as a transposed vector is simply the same vector.\n",
        "print('y.T')\n",
        "print('no transform for single column: ', y.T)\n",
        "print('reshape is used (-1, 1) row to col; (1, -1) col to row')\n",
        "yreshape = y.reshape(-1, 1)\n",
        "print(yreshape)\n",
        "yreshape = yreshape.reshape(1, -1)\n",
        "print(yreshape)\n",
        "print()\n",
        "\n",
        "print('matmul(x, x.T)')\n",
        "print(np.matmul(x, x.T))\n",
        "print('inverse of matmul(x, x.T)')\n",
        "print(np.matrix(np.matmul(x, x.T)).I)\n",
        "print('identity matrix')\n",
        "print(np.matmul(np.matmul(x, x.T), np.matrix(np.matmul(x, x.T)).I).astype('int'))\n",
        "print()\n",
        "\n",
        "print('matmul(x, y.T)')\n",
        "print(np.matmul(x, y.T))\n",
        "print()\n",
        "\n",
        "# coeffs = np.matmul(np.linalg.inv(np.matmul(x, x.T)), np.matmul(x, y.T))\n",
        "coeffs = np.matmul(np.matrix(np.matmul(x, x.T)).I, np.matmul(x, y))\n",
        "print('coeffs: ', coeffs)\n",
        "print('np.matmul(np.linalg.inv(np.matmul(x, x.T)), np.matmul(x, y.T))')"
      ],
      "metadata": {
        "colab": {
          "base_uri": "https://localhost:8080/"
        },
        "id": "VMF4v3qniL8v",
        "outputId": "b8257a83-3e15-463b-c47b-41b9f146d9f6"
      },
      "execution_count": null,
      "outputs": [
        {
          "output_type": "stream",
          "name": "stdout",
          "text": [
            "[1 2 3 4 5]\n",
            "[1 3 2 3 5]\n",
            "table of sums\n",
            " x  y  x^2  xy\n",
            " 1  1    1   1\n",
            " 2  3    4   6\n",
            " 3  2    9   6\n",
            " 4  3   16  12\n",
            " 5  5   25  25\n",
            "sums: [15, 14, 55, 50]\n",
            "\n",
            "x\n",
            "[[1 1 1 1 1]\n",
            " [1 2 3 4 5]]\n",
            "x.T\n",
            "[[1 1]\n",
            " [1 2]\n",
            " [1 3]\n",
            " [1 4]\n",
            " [1 5]]\n",
            "\n",
            "y\n",
            "[1 3 2 3 5]\n",
            "y.T\n",
            "no transform for single column:  [1 3 2 3 5]\n",
            "reshape is used (-1, 1) row to col; (1, -1) col to row\n",
            "[[1]\n",
            " [3]\n",
            " [2]\n",
            " [3]\n",
            " [5]]\n",
            "[[1 3 2 3 5]]\n",
            "\n",
            "matmul(x, x.T)\n",
            "[[ 5 15]\n",
            " [15 55]]\n",
            "inverse of matmul(x, x.T)\n",
            "[[ 1.1 -0.3]\n",
            " [-0.3  0.1]]\n",
            "identity matrix\n",
            "[[1 0]\n",
            " [0 1]]\n",
            "\n",
            "matmul(x, y.T)\n",
            "[14 50]\n",
            "\n",
            "coeffs:  [[0.4 0.8]]\n",
            "np.matmul(np.linalg.inv(np.matmul(x, x.T)), np.matmul(x, y.T))\n"
          ]
        }
      ]
    },
    {
      "cell_type": "markdown",
      "source": [
        "#### Note\n",
        "\n",
        "* Consider $y = \\alpha X + \\beta$ where $\\beta = constant$ and inserted into $X$ and $\\alpha$ is renamed to $\\theta$\n",
        "* So, $\\theta X = y$\n",
        "* $\\theta = y X^{-1}$ or $\\theta = X^{-1} y$\n",
        "* np.matmul(np.linalg.inv(np.matmul(x, x.T)), np.matmul(x, y.T))\n",
        "\n",
        "and so we have\n",
        "* np.matmul(x, X.T)^-1 * np.matmul(x, y.T)"
      ],
      "metadata": {
        "id": "H8yHn3dLIMPe"
      }
    },
    {
      "cell_type": "markdown",
      "source": [
        "#### Another Example"
      ],
      "metadata": {
        "id": "-oJKxuqrMrkt"
      }
    },
    {
      "cell_type": "code",
      "source": [
        "x = np.array([1, 2, 3, 4, 5])\n",
        "y = np.array([1, 3, 2, 3, 5])\n",
        "print('x: ', x)\n",
        "print('y: ', y)"
      ],
      "metadata": {
        "colab": {
          "base_uri": "https://localhost:8080/"
        },
        "id": "S4ZFiqfYaqAI",
        "outputId": "56037ecc-9b5d-474c-b4a8-0ff6322bb534"
      },
      "execution_count": null,
      "outputs": [
        {
          "output_type": "stream",
          "name": "stdout",
          "text": [
            "x:  [1 2 3 4 5]\n",
            "y:  [1 3 2 3 5]\n"
          ]
        }
      ]
    },
    {
      "cell_type": "code",
      "source": [
        "x = x.reshape(-1, 1)\n",
        "x"
      ],
      "metadata": {
        "colab": {
          "base_uri": "https://localhost:8080/"
        },
        "id": "tns3gXqma1LL",
        "outputId": "3c65068a-6c0d-45b2-da91-8d36984566d2"
      },
      "execution_count": null,
      "outputs": [
        {
          "output_type": "execute_result",
          "data": {
            "text/plain": [
              "array([[1],\n",
              "       [2],\n",
              "       [3],\n",
              "       [4],\n",
              "       [5]])"
            ]
          },
          "metadata": {},
          "execution_count": 11
        }
      ]
    },
    {
      "cell_type": "code",
      "source": [
        "X = np.append(arr = np.ones((5, 1)).astype(int), values = x, axis = 1)\n",
        "print(X)\n",
        "print(y)\n",
        "print('weights = ', np.linalg.inv(X.T.dot(X)).dot(X.T).dot(y))"
      ],
      "metadata": {
        "colab": {
          "base_uri": "https://localhost:8080/"
        },
        "id": "GmZVjaxKaCJI",
        "outputId": "da5af9e0-6cdc-4155-aad7-f8f7746cc609"
      },
      "execution_count": null,
      "outputs": [
        {
          "output_type": "stream",
          "name": "stdout",
          "text": [
            "[[1 1]\n",
            " [1 2]\n",
            " [1 3]\n",
            " [1 4]\n",
            " [1 5]]\n",
            "[1 3 2 3 5]\n",
            "weights =  [0.4 0.8]\n"
          ]
        }
      ]
    },
    {
      "cell_type": "markdown",
      "source": [
        "### The DataFrame as a Matrix"
      ],
      "metadata": {
        "id": "sLBYVKpU_8v-"
      }
    },
    {
      "cell_type": "code",
      "source": [
        "import numpy as np\n",
        "import pandas as pd\n",
        "from sklearn.model_selection import train_test_split\n",
        "import statsmodels.api as sm\n",
        "\n",
        "advertising = pd.read_csv('https://raw.githubusercontent.com/gitmystuff/INFO4050/main/Datasets/Advertising.csv', usecols=['TV', 'radio', 'newspaper', 'sales'])\n",
        "X_train, X_test, y_train, y_test = train_test_split(\n",
        "    advertising.drop('sales', axis=1),\n",
        "    advertising['sales'],\n",
        "    test_size=0.25,\n",
        "    random_state=42)\n",
        "\n",
        "X_train.insert(0, 'const', 1)\n",
        "X = X_train\n",
        "y = y_train\n",
        "\n",
        "model = sm.OLS(y, X).fit()\n",
        "print('StatsModel')\n",
        "print(model.params)\n",
        "print()\n",
        "print('Numpy Linear Algebra')\n",
        "print('weights = ', np.linalg.inv(X.T.dot(X)).dot(X.T).dot(y))\n",
        "np.matmul(np.linalg.inv(np.matmul(X.values.T, X.values)), np.matmul(X.values.T, y))"
      ],
      "metadata": {
        "colab": {
          "base_uri": "https://localhost:8080/"
        },
        "id": "zE5rbneAASfA",
        "outputId": "eaf9ef5e-49f3-4858-baf1-c82da893761c"
      },
      "execution_count": null,
      "outputs": [
        {
          "output_type": "stream",
          "name": "stdout",
          "text": [
            "StatsModel\n",
            "const        2.778303\n",
            "TV           0.045434\n",
            "radio        0.191457\n",
            "newspaper    0.002568\n",
            "dtype: float64\n",
            "\n",
            "Numpy Linear Algebra\n",
            "weights =  [2.77830346e+00 4.54335586e-02 1.91456536e-01 2.56809082e-03]\n"
          ]
        },
        {
          "output_type": "execute_result",
          "data": {
            "text/plain": [
              "array([2.77830346e+00, 4.54335586e-02, 1.91456536e-01, 2.56809082e-03])"
            ]
          },
          "metadata": {},
          "execution_count": 14
        }
      ]
    },
    {
      "cell_type": "markdown",
      "source": [
        "## In-Class Activity"
      ],
      "metadata": {
        "id": "Wg0NNApLRQU5"
      }
    },
    {
      "cell_type": "markdown",
      "source": [
        "**Advertising Dataset**\n",
        "\n",
        "Jahnavi Chintakindi\n",
        "\n",
        "### Overview\n",
        "\n",
        "This project will be analyzing and modeling the advertising dataset to see how sales are influenced by TV, radio, and newspaper advertising expenditures and will suggest methods to cut costs and boost sales."
      ],
      "metadata": {
        "id": "j8UPVmmnu7Eh"
      }
    },
    {
      "cell_type": "code",
      "source": [
        "# create dataframe from simulated dataset and output shape, info, and head\n",
        "import pandas as pd\n",
        "from sklearn.datasets import make_regression\n",
        "\n",
        "rows = 300\n",
        "cols = 3\n",
        "\n",
        "X, y = make_regression(n_samples=rows, n_features=cols)\n",
        "data = {'x1': X[:, 0], 'x2': X[:, 1], 'x3': X[:, 2], 'y': y}\n",
        "\n",
        "df=pd.DataFrame(data)\n",
        "\n",
        "print(df.shape)\n",
        "print(df.info())\n",
        "df.head()\n"
      ],
      "metadata": {
        "id": "8MRf1S0VRlEE",
        "colab": {
          "base_uri": "https://localhost:8080/",
          "height": 438
        },
        "outputId": "eb3760dc-c445-4ab1-b496-32145886f5fe"
      },
      "execution_count": null,
      "outputs": [
        {
          "output_type": "stream",
          "name": "stdout",
          "text": [
            "(300, 4)\n",
            "<class 'pandas.core.frame.DataFrame'>\n",
            "RangeIndex: 300 entries, 0 to 299\n",
            "Data columns (total 4 columns):\n",
            " #   Column  Non-Null Count  Dtype  \n",
            "---  ------  --------------  -----  \n",
            " 0   x1      300 non-null    float64\n",
            " 1   x2      300 non-null    float64\n",
            " 2   x3      300 non-null    float64\n",
            " 3   y       300 non-null    float64\n",
            "dtypes: float64(4)\n",
            "memory usage: 9.5 KB\n",
            "None\n"
          ]
        },
        {
          "output_type": "execute_result",
          "data": {
            "text/plain": [
              "         x1        x2        x3           y\n",
              "0 -1.220086  2.454522 -0.123986  102.049323\n",
              "1 -0.047009  0.644023  0.483331   89.573700\n",
              "2 -1.043328 -0.840057  0.796687 -110.190940\n",
              "3 -1.751278 -0.255212  0.593534 -136.229273\n",
              "4 -0.151575  0.826325  2.002525  209.277246"
            ],
            "text/html": [
              "\n",
              "  <div id=\"df-7fc33798-263a-4790-bdb7-6c4700f9d0b1\" class=\"colab-df-container\">\n",
              "    <div>\n",
              "<style scoped>\n",
              "    .dataframe tbody tr th:only-of-type {\n",
              "        vertical-align: middle;\n",
              "    }\n",
              "\n",
              "    .dataframe tbody tr th {\n",
              "        vertical-align: top;\n",
              "    }\n",
              "\n",
              "    .dataframe thead th {\n",
              "        text-align: right;\n",
              "    }\n",
              "</style>\n",
              "<table border=\"1\" class=\"dataframe\">\n",
              "  <thead>\n",
              "    <tr style=\"text-align: right;\">\n",
              "      <th></th>\n",
              "      <th>x1</th>\n",
              "      <th>x2</th>\n",
              "      <th>x3</th>\n",
              "      <th>y</th>\n",
              "    </tr>\n",
              "  </thead>\n",
              "  <tbody>\n",
              "    <tr>\n",
              "      <th>0</th>\n",
              "      <td>-1.220086</td>\n",
              "      <td>2.454522</td>\n",
              "      <td>-0.123986</td>\n",
              "      <td>102.049323</td>\n",
              "    </tr>\n",
              "    <tr>\n",
              "      <th>1</th>\n",
              "      <td>-0.047009</td>\n",
              "      <td>0.644023</td>\n",
              "      <td>0.483331</td>\n",
              "      <td>89.573700</td>\n",
              "    </tr>\n",
              "    <tr>\n",
              "      <th>2</th>\n",
              "      <td>-1.043328</td>\n",
              "      <td>-0.840057</td>\n",
              "      <td>0.796687</td>\n",
              "      <td>-110.190940</td>\n",
              "    </tr>\n",
              "    <tr>\n",
              "      <th>3</th>\n",
              "      <td>-1.751278</td>\n",
              "      <td>-0.255212</td>\n",
              "      <td>0.593534</td>\n",
              "      <td>-136.229273</td>\n",
              "    </tr>\n",
              "    <tr>\n",
              "      <th>4</th>\n",
              "      <td>-0.151575</td>\n",
              "      <td>0.826325</td>\n",
              "      <td>2.002525</td>\n",
              "      <td>209.277246</td>\n",
              "    </tr>\n",
              "  </tbody>\n",
              "</table>\n",
              "</div>\n",
              "    <div class=\"colab-df-buttons\">\n",
              "\n",
              "  <div class=\"colab-df-container\">\n",
              "    <button class=\"colab-df-convert\" onclick=\"convertToInteractive('df-7fc33798-263a-4790-bdb7-6c4700f9d0b1')\"\n",
              "            title=\"Convert this dataframe to an interactive table.\"\n",
              "            style=\"display:none;\">\n",
              "\n",
              "  <svg xmlns=\"http://www.w3.org/2000/svg\" height=\"24px\" viewBox=\"0 -960 960 960\">\n",
              "    <path d=\"M120-120v-720h720v720H120Zm60-500h600v-160H180v160Zm220 220h160v-160H400v160Zm0 220h160v-160H400v160ZM180-400h160v-160H180v160Zm440 0h160v-160H620v160ZM180-180h160v-160H180v160Zm440 0h160v-160H620v160Z\"/>\n",
              "  </svg>\n",
              "    </button>\n",
              "\n",
              "  <style>\n",
              "    .colab-df-container {\n",
              "      display:flex;\n",
              "      gap: 12px;\n",
              "    }\n",
              "\n",
              "    .colab-df-convert {\n",
              "      background-color: #E8F0FE;\n",
              "      border: none;\n",
              "      border-radius: 50%;\n",
              "      cursor: pointer;\n",
              "      display: none;\n",
              "      fill: #1967D2;\n",
              "      height: 32px;\n",
              "      padding: 0 0 0 0;\n",
              "      width: 32px;\n",
              "    }\n",
              "\n",
              "    .colab-df-convert:hover {\n",
              "      background-color: #E2EBFA;\n",
              "      box-shadow: 0px 1px 2px rgba(60, 64, 67, 0.3), 0px 1px 3px 1px rgba(60, 64, 67, 0.15);\n",
              "      fill: #174EA6;\n",
              "    }\n",
              "\n",
              "    .colab-df-buttons div {\n",
              "      margin-bottom: 4px;\n",
              "    }\n",
              "\n",
              "    [theme=dark] .colab-df-convert {\n",
              "      background-color: #3B4455;\n",
              "      fill: #D2E3FC;\n",
              "    }\n",
              "\n",
              "    [theme=dark] .colab-df-convert:hover {\n",
              "      background-color: #434B5C;\n",
              "      box-shadow: 0px 1px 3px 1px rgba(0, 0, 0, 0.15);\n",
              "      filter: drop-shadow(0px 1px 2px rgba(0, 0, 0, 0.3));\n",
              "      fill: #FFFFFF;\n",
              "    }\n",
              "  </style>\n",
              "\n",
              "    <script>\n",
              "      const buttonEl =\n",
              "        document.querySelector('#df-7fc33798-263a-4790-bdb7-6c4700f9d0b1 button.colab-df-convert');\n",
              "      buttonEl.style.display =\n",
              "        google.colab.kernel.accessAllowed ? 'block' : 'none';\n",
              "\n",
              "      async function convertToInteractive(key) {\n",
              "        const element = document.querySelector('#df-7fc33798-263a-4790-bdb7-6c4700f9d0b1');\n",
              "        const dataTable =\n",
              "          await google.colab.kernel.invokeFunction('convertToInteractive',\n",
              "                                                    [key], {});\n",
              "        if (!dataTable) return;\n",
              "\n",
              "        const docLinkHtml = 'Like what you see? Visit the ' +\n",
              "          '<a target=\"_blank\" href=https://colab.research.google.com/notebooks/data_table.ipynb>data table notebook</a>'\n",
              "          + ' to learn more about interactive tables.';\n",
              "        element.innerHTML = '';\n",
              "        dataTable['output_type'] = 'display_data';\n",
              "        await google.colab.output.renderOutput(dataTable, element);\n",
              "        const docLink = document.createElement('div');\n",
              "        docLink.innerHTML = docLinkHtml;\n",
              "        element.appendChild(docLink);\n",
              "      }\n",
              "    </script>\n",
              "  </div>\n",
              "\n",
              "\n",
              "<div id=\"df-40cbd150-f5ad-466c-bf23-cbff9a974c20\">\n",
              "  <button class=\"colab-df-quickchart\" onclick=\"quickchart('df-40cbd150-f5ad-466c-bf23-cbff9a974c20')\"\n",
              "            title=\"Suggest charts.\"\n",
              "            style=\"display:none;\">\n",
              "\n",
              "<svg xmlns=\"http://www.w3.org/2000/svg\" height=\"24px\"viewBox=\"0 0 24 24\"\n",
              "     width=\"24px\">\n",
              "    <g>\n",
              "        <path d=\"M19 3H5c-1.1 0-2 .9-2 2v14c0 1.1.9 2 2 2h14c1.1 0 2-.9 2-2V5c0-1.1-.9-2-2-2zM9 17H7v-7h2v7zm4 0h-2V7h2v10zm4 0h-2v-4h2v4z\"/>\n",
              "    </g>\n",
              "</svg>\n",
              "  </button>\n",
              "\n",
              "<style>\n",
              "  .colab-df-quickchart {\n",
              "      --bg-color: #E8F0FE;\n",
              "      --fill-color: #1967D2;\n",
              "      --hover-bg-color: #E2EBFA;\n",
              "      --hover-fill-color: #174EA6;\n",
              "      --disabled-fill-color: #AAA;\n",
              "      --disabled-bg-color: #DDD;\n",
              "  }\n",
              "\n",
              "  [theme=dark] .colab-df-quickchart {\n",
              "      --bg-color: #3B4455;\n",
              "      --fill-color: #D2E3FC;\n",
              "      --hover-bg-color: #434B5C;\n",
              "      --hover-fill-color: #FFFFFF;\n",
              "      --disabled-bg-color: #3B4455;\n",
              "      --disabled-fill-color: #666;\n",
              "  }\n",
              "\n",
              "  .colab-df-quickchart {\n",
              "    background-color: var(--bg-color);\n",
              "    border: none;\n",
              "    border-radius: 50%;\n",
              "    cursor: pointer;\n",
              "    display: none;\n",
              "    fill: var(--fill-color);\n",
              "    height: 32px;\n",
              "    padding: 0;\n",
              "    width: 32px;\n",
              "  }\n",
              "\n",
              "  .colab-df-quickchart:hover {\n",
              "    background-color: var(--hover-bg-color);\n",
              "    box-shadow: 0 1px 2px rgba(60, 64, 67, 0.3), 0 1px 3px 1px rgba(60, 64, 67, 0.15);\n",
              "    fill: var(--button-hover-fill-color);\n",
              "  }\n",
              "\n",
              "  .colab-df-quickchart-complete:disabled,\n",
              "  .colab-df-quickchart-complete:disabled:hover {\n",
              "    background-color: var(--disabled-bg-color);\n",
              "    fill: var(--disabled-fill-color);\n",
              "    box-shadow: none;\n",
              "  }\n",
              "\n",
              "  .colab-df-spinner {\n",
              "    border: 2px solid var(--fill-color);\n",
              "    border-color: transparent;\n",
              "    border-bottom-color: var(--fill-color);\n",
              "    animation:\n",
              "      spin 1s steps(1) infinite;\n",
              "  }\n",
              "\n",
              "  @keyframes spin {\n",
              "    0% {\n",
              "      border-color: transparent;\n",
              "      border-bottom-color: var(--fill-color);\n",
              "      border-left-color: var(--fill-color);\n",
              "    }\n",
              "    20% {\n",
              "      border-color: transparent;\n",
              "      border-left-color: var(--fill-color);\n",
              "      border-top-color: var(--fill-color);\n",
              "    }\n",
              "    30% {\n",
              "      border-color: transparent;\n",
              "      border-left-color: var(--fill-color);\n",
              "      border-top-color: var(--fill-color);\n",
              "      border-right-color: var(--fill-color);\n",
              "    }\n",
              "    40% {\n",
              "      border-color: transparent;\n",
              "      border-right-color: var(--fill-color);\n",
              "      border-top-color: var(--fill-color);\n",
              "    }\n",
              "    60% {\n",
              "      border-color: transparent;\n",
              "      border-right-color: var(--fill-color);\n",
              "    }\n",
              "    80% {\n",
              "      border-color: transparent;\n",
              "      border-right-color: var(--fill-color);\n",
              "      border-bottom-color: var(--fill-color);\n",
              "    }\n",
              "    90% {\n",
              "      border-color: transparent;\n",
              "      border-bottom-color: var(--fill-color);\n",
              "    }\n",
              "  }\n",
              "</style>\n",
              "\n",
              "  <script>\n",
              "    async function quickchart(key) {\n",
              "      const quickchartButtonEl =\n",
              "        document.querySelector('#' + key + ' button');\n",
              "      quickchartButtonEl.disabled = true;  // To prevent multiple clicks.\n",
              "      quickchartButtonEl.classList.add('colab-df-spinner');\n",
              "      try {\n",
              "        const charts = await google.colab.kernel.invokeFunction(\n",
              "            'suggestCharts', [key], {});\n",
              "      } catch (error) {\n",
              "        console.error('Error during call to suggestCharts:', error);\n",
              "      }\n",
              "      quickchartButtonEl.classList.remove('colab-df-spinner');\n",
              "      quickchartButtonEl.classList.add('colab-df-quickchart-complete');\n",
              "    }\n",
              "    (() => {\n",
              "      let quickchartButtonEl =\n",
              "        document.querySelector('#df-40cbd150-f5ad-466c-bf23-cbff9a974c20 button');\n",
              "      quickchartButtonEl.style.display =\n",
              "        google.colab.kernel.accessAllowed ? 'block' : 'none';\n",
              "    })();\n",
              "  </script>\n",
              "</div>\n",
              "    </div>\n",
              "  </div>\n"
            ]
          },
          "metadata": {},
          "execution_count": 37
        }
      ]
    },
    {
      "cell_type": "code",
      "source": [
        "# train test split and print X_train shape and X_test shape\n",
        "\n",
        "from sklearn.model_selection import train_test_split\n",
        "\n",
        "X_train,X_test,y_train,y_test=train_test_split(\n",
        "    df.drop('y',axis=1),\n",
        "    df['y'],\n",
        "    test_size=0.25,\n",
        "    random_state=42\n",
        "\n",
        ")\n",
        "\n",
        "print(X_train.shape)\n",
        "print(X_test.shape)"
      ],
      "metadata": {
        "id": "Ivsu2aBOVNPs",
        "colab": {
          "base_uri": "https://localhost:8080/"
        },
        "outputId": "3c5cd164-7413-4043-bae7-8cd27a8714e6"
      },
      "execution_count": null,
      "outputs": [
        {
          "output_type": "stream",
          "name": "stdout",
          "text": [
            "(225, 3)\n",
            "(75, 3)\n"
          ]
        }
      ]
    },
    {
      "cell_type": "code",
      "source": [
        "# describe X_train\n",
        "\n",
        "X_train.describe()"
      ],
      "metadata": {
        "id": "oxxzWabyjmHA",
        "colab": {
          "base_uri": "https://localhost:8080/",
          "height": 300
        },
        "outputId": "8460b6d0-4b50-429f-ffef-7ec0c82d35b3"
      },
      "execution_count": null,
      "outputs": [
        {
          "output_type": "execute_result",
          "data": {
            "text/plain": [
              "               x1          x2          x3\n",
              "count  225.000000  225.000000  225.000000\n",
              "mean     0.118957    0.076117    0.064648\n",
              "std      1.032471    1.012062    1.018173\n",
              "min     -2.645462   -2.291560   -2.861763\n",
              "25%     -0.499838   -0.659794   -0.601368\n",
              "50%      0.078356    0.106106    0.139742\n",
              "75%      0.805717    0.842368    0.769745\n",
              "max      3.552758    2.454522    2.727243"
            ],
            "text/html": [
              "\n",
              "  <div id=\"df-760da5b3-bac7-43f0-967f-4394649f49c0\" class=\"colab-df-container\">\n",
              "    <div>\n",
              "<style scoped>\n",
              "    .dataframe tbody tr th:only-of-type {\n",
              "        vertical-align: middle;\n",
              "    }\n",
              "\n",
              "    .dataframe tbody tr th {\n",
              "        vertical-align: top;\n",
              "    }\n",
              "\n",
              "    .dataframe thead th {\n",
              "        text-align: right;\n",
              "    }\n",
              "</style>\n",
              "<table border=\"1\" class=\"dataframe\">\n",
              "  <thead>\n",
              "    <tr style=\"text-align: right;\">\n",
              "      <th></th>\n",
              "      <th>x1</th>\n",
              "      <th>x2</th>\n",
              "      <th>x3</th>\n",
              "    </tr>\n",
              "  </thead>\n",
              "  <tbody>\n",
              "    <tr>\n",
              "      <th>count</th>\n",
              "      <td>225.000000</td>\n",
              "      <td>225.000000</td>\n",
              "      <td>225.000000</td>\n",
              "    </tr>\n",
              "    <tr>\n",
              "      <th>mean</th>\n",
              "      <td>0.118957</td>\n",
              "      <td>0.076117</td>\n",
              "      <td>0.064648</td>\n",
              "    </tr>\n",
              "    <tr>\n",
              "      <th>std</th>\n",
              "      <td>1.032471</td>\n",
              "      <td>1.012062</td>\n",
              "      <td>1.018173</td>\n",
              "    </tr>\n",
              "    <tr>\n",
              "      <th>min</th>\n",
              "      <td>-2.645462</td>\n",
              "      <td>-2.291560</td>\n",
              "      <td>-2.861763</td>\n",
              "    </tr>\n",
              "    <tr>\n",
              "      <th>25%</th>\n",
              "      <td>-0.499838</td>\n",
              "      <td>-0.659794</td>\n",
              "      <td>-0.601368</td>\n",
              "    </tr>\n",
              "    <tr>\n",
              "      <th>50%</th>\n",
              "      <td>0.078356</td>\n",
              "      <td>0.106106</td>\n",
              "      <td>0.139742</td>\n",
              "    </tr>\n",
              "    <tr>\n",
              "      <th>75%</th>\n",
              "      <td>0.805717</td>\n",
              "      <td>0.842368</td>\n",
              "      <td>0.769745</td>\n",
              "    </tr>\n",
              "    <tr>\n",
              "      <th>max</th>\n",
              "      <td>3.552758</td>\n",
              "      <td>2.454522</td>\n",
              "      <td>2.727243</td>\n",
              "    </tr>\n",
              "  </tbody>\n",
              "</table>\n",
              "</div>\n",
              "    <div class=\"colab-df-buttons\">\n",
              "\n",
              "  <div class=\"colab-df-container\">\n",
              "    <button class=\"colab-df-convert\" onclick=\"convertToInteractive('df-760da5b3-bac7-43f0-967f-4394649f49c0')\"\n",
              "            title=\"Convert this dataframe to an interactive table.\"\n",
              "            style=\"display:none;\">\n",
              "\n",
              "  <svg xmlns=\"http://www.w3.org/2000/svg\" height=\"24px\" viewBox=\"0 -960 960 960\">\n",
              "    <path d=\"M120-120v-720h720v720H120Zm60-500h600v-160H180v160Zm220 220h160v-160H400v160Zm0 220h160v-160H400v160ZM180-400h160v-160H180v160Zm440 0h160v-160H620v160ZM180-180h160v-160H180v160Zm440 0h160v-160H620v160Z\"/>\n",
              "  </svg>\n",
              "    </button>\n",
              "\n",
              "  <style>\n",
              "    .colab-df-container {\n",
              "      display:flex;\n",
              "      gap: 12px;\n",
              "    }\n",
              "\n",
              "    .colab-df-convert {\n",
              "      background-color: #E8F0FE;\n",
              "      border: none;\n",
              "      border-radius: 50%;\n",
              "      cursor: pointer;\n",
              "      display: none;\n",
              "      fill: #1967D2;\n",
              "      height: 32px;\n",
              "      padding: 0 0 0 0;\n",
              "      width: 32px;\n",
              "    }\n",
              "\n",
              "    .colab-df-convert:hover {\n",
              "      background-color: #E2EBFA;\n",
              "      box-shadow: 0px 1px 2px rgba(60, 64, 67, 0.3), 0px 1px 3px 1px rgba(60, 64, 67, 0.15);\n",
              "      fill: #174EA6;\n",
              "    }\n",
              "\n",
              "    .colab-df-buttons div {\n",
              "      margin-bottom: 4px;\n",
              "    }\n",
              "\n",
              "    [theme=dark] .colab-df-convert {\n",
              "      background-color: #3B4455;\n",
              "      fill: #D2E3FC;\n",
              "    }\n",
              "\n",
              "    [theme=dark] .colab-df-convert:hover {\n",
              "      background-color: #434B5C;\n",
              "      box-shadow: 0px 1px 3px 1px rgba(0, 0, 0, 0.15);\n",
              "      filter: drop-shadow(0px 1px 2px rgba(0, 0, 0, 0.3));\n",
              "      fill: #FFFFFF;\n",
              "    }\n",
              "  </style>\n",
              "\n",
              "    <script>\n",
              "      const buttonEl =\n",
              "        document.querySelector('#df-760da5b3-bac7-43f0-967f-4394649f49c0 button.colab-df-convert');\n",
              "      buttonEl.style.display =\n",
              "        google.colab.kernel.accessAllowed ? 'block' : 'none';\n",
              "\n",
              "      async function convertToInteractive(key) {\n",
              "        const element = document.querySelector('#df-760da5b3-bac7-43f0-967f-4394649f49c0');\n",
              "        const dataTable =\n",
              "          await google.colab.kernel.invokeFunction('convertToInteractive',\n",
              "                                                    [key], {});\n",
              "        if (!dataTable) return;\n",
              "\n",
              "        const docLinkHtml = 'Like what you see? Visit the ' +\n",
              "          '<a target=\"_blank\" href=https://colab.research.google.com/notebooks/data_table.ipynb>data table notebook</a>'\n",
              "          + ' to learn more about interactive tables.';\n",
              "        element.innerHTML = '';\n",
              "        dataTable['output_type'] = 'display_data';\n",
              "        await google.colab.output.renderOutput(dataTable, element);\n",
              "        const docLink = document.createElement('div');\n",
              "        docLink.innerHTML = docLinkHtml;\n",
              "        element.appendChild(docLink);\n",
              "      }\n",
              "    </script>\n",
              "  </div>\n",
              "\n",
              "\n",
              "<div id=\"df-f8614d1e-fa3f-4fbf-bf1b-5e4000cd6a45\">\n",
              "  <button class=\"colab-df-quickchart\" onclick=\"quickchart('df-f8614d1e-fa3f-4fbf-bf1b-5e4000cd6a45')\"\n",
              "            title=\"Suggest charts.\"\n",
              "            style=\"display:none;\">\n",
              "\n",
              "<svg xmlns=\"http://www.w3.org/2000/svg\" height=\"24px\"viewBox=\"0 0 24 24\"\n",
              "     width=\"24px\">\n",
              "    <g>\n",
              "        <path d=\"M19 3H5c-1.1 0-2 .9-2 2v14c0 1.1.9 2 2 2h14c1.1 0 2-.9 2-2V5c0-1.1-.9-2-2-2zM9 17H7v-7h2v7zm4 0h-2V7h2v10zm4 0h-2v-4h2v4z\"/>\n",
              "    </g>\n",
              "</svg>\n",
              "  </button>\n",
              "\n",
              "<style>\n",
              "  .colab-df-quickchart {\n",
              "      --bg-color: #E8F0FE;\n",
              "      --fill-color: #1967D2;\n",
              "      --hover-bg-color: #E2EBFA;\n",
              "      --hover-fill-color: #174EA6;\n",
              "      --disabled-fill-color: #AAA;\n",
              "      --disabled-bg-color: #DDD;\n",
              "  }\n",
              "\n",
              "  [theme=dark] .colab-df-quickchart {\n",
              "      --bg-color: #3B4455;\n",
              "      --fill-color: #D2E3FC;\n",
              "      --hover-bg-color: #434B5C;\n",
              "      --hover-fill-color: #FFFFFF;\n",
              "      --disabled-bg-color: #3B4455;\n",
              "      --disabled-fill-color: #666;\n",
              "  }\n",
              "\n",
              "  .colab-df-quickchart {\n",
              "    background-color: var(--bg-color);\n",
              "    border: none;\n",
              "    border-radius: 50%;\n",
              "    cursor: pointer;\n",
              "    display: none;\n",
              "    fill: var(--fill-color);\n",
              "    height: 32px;\n",
              "    padding: 0;\n",
              "    width: 32px;\n",
              "  }\n",
              "\n",
              "  .colab-df-quickchart:hover {\n",
              "    background-color: var(--hover-bg-color);\n",
              "    box-shadow: 0 1px 2px rgba(60, 64, 67, 0.3), 0 1px 3px 1px rgba(60, 64, 67, 0.15);\n",
              "    fill: var(--button-hover-fill-color);\n",
              "  }\n",
              "\n",
              "  .colab-df-quickchart-complete:disabled,\n",
              "  .colab-df-quickchart-complete:disabled:hover {\n",
              "    background-color: var(--disabled-bg-color);\n",
              "    fill: var(--disabled-fill-color);\n",
              "    box-shadow: none;\n",
              "  }\n",
              "\n",
              "  .colab-df-spinner {\n",
              "    border: 2px solid var(--fill-color);\n",
              "    border-color: transparent;\n",
              "    border-bottom-color: var(--fill-color);\n",
              "    animation:\n",
              "      spin 1s steps(1) infinite;\n",
              "  }\n",
              "\n",
              "  @keyframes spin {\n",
              "    0% {\n",
              "      border-color: transparent;\n",
              "      border-bottom-color: var(--fill-color);\n",
              "      border-left-color: var(--fill-color);\n",
              "    }\n",
              "    20% {\n",
              "      border-color: transparent;\n",
              "      border-left-color: var(--fill-color);\n",
              "      border-top-color: var(--fill-color);\n",
              "    }\n",
              "    30% {\n",
              "      border-color: transparent;\n",
              "      border-left-color: var(--fill-color);\n",
              "      border-top-color: var(--fill-color);\n",
              "      border-right-color: var(--fill-color);\n",
              "    }\n",
              "    40% {\n",
              "      border-color: transparent;\n",
              "      border-right-color: var(--fill-color);\n",
              "      border-top-color: var(--fill-color);\n",
              "    }\n",
              "    60% {\n",
              "      border-color: transparent;\n",
              "      border-right-color: var(--fill-color);\n",
              "    }\n",
              "    80% {\n",
              "      border-color: transparent;\n",
              "      border-right-color: var(--fill-color);\n",
              "      border-bottom-color: var(--fill-color);\n",
              "    }\n",
              "    90% {\n",
              "      border-color: transparent;\n",
              "      border-bottom-color: var(--fill-color);\n",
              "    }\n",
              "  }\n",
              "</style>\n",
              "\n",
              "  <script>\n",
              "    async function quickchart(key) {\n",
              "      const quickchartButtonEl =\n",
              "        document.querySelector('#' + key + ' button');\n",
              "      quickchartButtonEl.disabled = true;  // To prevent multiple clicks.\n",
              "      quickchartButtonEl.classList.add('colab-df-spinner');\n",
              "      try {\n",
              "        const charts = await google.colab.kernel.invokeFunction(\n",
              "            'suggestCharts', [key], {});\n",
              "      } catch (error) {\n",
              "        console.error('Error during call to suggestCharts:', error);\n",
              "      }\n",
              "      quickchartButtonEl.classList.remove('colab-df-spinner');\n",
              "      quickchartButtonEl.classList.add('colab-df-quickchart-complete');\n",
              "    }\n",
              "    (() => {\n",
              "      let quickchartButtonEl =\n",
              "        document.querySelector('#df-f8614d1e-fa3f-4fbf-bf1b-5e4000cd6a45 button');\n",
              "      quickchartButtonEl.style.display =\n",
              "        google.colab.kernel.accessAllowed ? 'block' : 'none';\n",
              "    })();\n",
              "  </script>\n",
              "</div>\n",
              "    </div>\n",
              "  </div>\n"
            ]
          },
          "metadata": {},
          "execution_count": 39
        }
      ]
    },
    {
      "cell_type": "code",
      "execution_count": null,
      "metadata": {
        "id": "DEH-M-cSQOf6",
        "colab": {
          "base_uri": "https://localhost:8080/",
          "height": 457
        },
        "outputId": "ab65bc9f-e0f8-44bd-cf74-70ec21ecadef"
      },
      "outputs": [
        {
          "output_type": "display_data",
          "data": {
            "text/plain": [
              "<Figure size 640x480 with 4 Axes>"
            ],
            "image/png": "[encoded data removed]"
          },
          "metadata": {}
        }
      ],
      "source": [
        "# show X_train histograms\n",
        "\n",
        "X_train.hist();"
      ]
    },
    {
      "cell_type": "code",
      "source": [
        "# show correlation heatmap for X_train\n",
        "\n",
        "import numpy as np\n",
        "import matplotlib.pyplot as plt\n",
        "import seaborn as sns\n",
        "\n",
        "# correlation matrix\n",
        "sns.set(style=\"white\")\n",
        "\n",
        "# compute the correlation matrix\n",
        "corr = X_train.corr()\n",
        "\n",
        "# generate a mask for the upper triangle\n",
        "mask = np.zeros_like(corr, dtype=bool)\n",
        "mask[np.triu_indices_from(mask)] = True\n",
        "\n",
        "# set up the matplotlib figure\n",
        "# f, ax = plt.subplots()\n",
        "f = plt.figure(figsize=(8, 8))\n",
        "\n",
        "# generate a custom diverging colormap\n",
        "cmap = sns.diverging_palette(220, 10, as_cmap=True)\n",
        "\n",
        "# draw the heatmap with the mask and correct aspect ratio\n",
        "sns.heatmap(corr, mask=mask, cmap=cmap, vmax=.3, center=0,\n",
        "            square=True, linewidths=.5, cbar_kws={\"shrink\": .5}, annot=True);\n",
        "\n",
        "plt.tight_layout()"
      ],
      "metadata": {
        "id": "mtLUE_2skGCJ",
        "colab": {
          "base_uri": "https://localhost:8080/",
          "height": 653
        },
        "outputId": "9b4533db-0234-4c2e-c4bd-949023a6822a"
      },
      "execution_count": null,
      "outputs": [
        {
          "output_type": "display_data",
          "data": {
            "text/plain": [
              "<Figure size 800x800 with 2 Axes>"
            ],
            "image/png": "[encoded data removed]"
          },
          "metadata": {}
        }
      ]
    },
    {
      "cell_type": "code",
      "source": [
        "# show X_train corrwith y_train\n",
        "\n",
        "X_train.corrwith(y_train).plot.bar(title='X corr with y', rot=90, grid=True);\n"
      ],
      "metadata": {
        "id": "-lQVF_6Aknxa",
        "colab": {
          "base_uri": "https://localhost:8080/",
          "height": 460
        },
        "outputId": "ba45015b-c121-48ad-a527-6cccad3a094f"
      },
      "execution_count": null,
      "outputs": [
        {
          "output_type": "display_data",
          "data": {
            "text/plain": [
              "<Figure size 640x480 with 1 Axes>"
            ],
            "image/png": "[encoded data removed]"
          },
          "metadata": {}
        }
      ]
    },
    {
      "cell_type": "code",
      "source": [
        "# build a linear regression model using Sklearn Linear Regression, make predictions with X_test and ouput the coefficients, intercept, mse, and r-squared\n",
        "\n",
        "from sklearn.linear_model import LinearRegression\n",
        "from sklearn.metrics import mean_squared_error,r2_score\n",
        "\n",
        "model=LinearRegression()\n",
        "model.fit(X_train,y_train)\n",
        "\n",
        "yhat=model.predict(X_test)\n",
        "print(model.intercept_,model.coef_)\n",
        "print('MSE :', mean_squared_error(y_test,yhat))\n",
        "print('r-squared :',r2_score(y_test,yhat))"
      ],
      "metadata": {
        "id": "BNX5Uit9mZV9",
        "colab": {
          "base_uri": "https://localhost:8080/"
        },
        "outputId": "0c6a86c3-af06-4536-9522-136efc097e89"
      },
      "execution_count": null,
      "outputs": [
        {
          "output_type": "stream",
          "name": "stdout",
          "text": [
            "-1.4210854715202004e-14 [89.81804283 89.96956748 74.18004963]\n",
            "MSE : 1.1354069914119343e-26\n",
            "r-squared : 1.0\n"
          ]
        }
      ]
    },
    {
      "cell_type": "code",
      "source": [
        "# build a linear regression model using statsmodel and output the summary\n",
        "import statsmodels.api as sm\n",
        "\n",
        "X_train.insert(0,'const',1)\n",
        "model=sm.OLS(y_train,X_train).fit()\n",
        "model.summary()\n"
      ],
      "metadata": {
        "id": "UWCOlLR_k9Ug",
        "colab": {
          "base_uri": "https://localhost:8080/",
          "height": 494
        },
        "outputId": "3fd12c5e-77c6-44bc-8c0e-0e4b3e21f47e"
      },
      "execution_count": null,
      "outputs": [
        {
          "output_type": "execute_result",
          "data": {
            "text/plain": [
              "<class 'statsmodels.iolib.summary.Summary'>\n",
              "\"\"\"\n",
              "                            OLS Regression Results                            \n",
              "==============================================================================\n",
              "Dep. Variable:                      y   R-squared:                       1.000\n",
              "Model:                            OLS   Adj. R-squared:                  1.000\n",
              "Method:                 Least Squares   F-statistic:                 2.378e+33\n",
              "Date:                Fri, 29 Sep 2023   Prob (F-statistic):               0.00\n",
              "Time:                        21:23:29   Log-Likelihood:                 6706.1\n",
              "No. Observations:                 225   AIC:                        -1.340e+04\n",
              "Df Residuals:                     221   BIC:                        -1.339e+04\n",
              "Df Model:                           3                                         \n",
              "Covariance Type:            nonrobust                                         \n",
              "==============================================================================\n",
              "                 coef    std err          t      P>|t|      [0.025      0.975]\n",
              "------------------------------------------------------------------------------\n",
              "const      -1.271e-14   1.87e-15     -6.791      0.000   -1.64e-14   -9.02e-15\n",
              "x1            89.8180   1.81e-15   4.97e+16      0.000      89.818      89.818\n",
              "x2            89.9696   1.83e-15   4.91e+16      0.000      89.970      89.970\n",
              "x3            74.1800   1.83e-15   4.05e+16      0.000      74.180      74.180\n",
              "==============================================================================\n",
              "Omnibus:                        1.611   Durbin-Watson:                   1.623\n",
              "Prob(Omnibus):                  0.447   Jarque-Bera (JB):                1.365\n",
              "Skew:                          -0.185   Prob(JB):                        0.505\n",
              "Kurtosis:                       3.096   Cond. No.                         1.19\n",
              "==============================================================================\n",
              "\n",
              "Notes:\n",
              "[1] Standard Errors assume that the covariance matrix of the errors is correctly specified.\n",
              "\"\"\""
            ],
            "text/html": [
              "<table class=\"simpletable\">\n",
              "<caption>OLS Regression Results</caption>\n",
              "<tr>\n",
              "  <th>Dep. Variable:</th>            <td>y</td>        <th>  R-squared:         </th>  <td>   1.000</td> \n",
              "</tr>\n",
              "<tr>\n",
              "  <th>Model:</th>                   <td>OLS</td>       <th>  Adj. R-squared:    </th>  <td>   1.000</td> \n",
              "</tr>\n",
              "<tr>\n",
              "  <th>Method:</th>             <td>Least Squares</td>  <th>  F-statistic:       </th>  <td>2.378e+33</td>\n",
              "</tr>\n",
              "<tr>\n",
              "  <th>Date:</th>             <td>Fri, 29 Sep 2023</td> <th>  Prob (F-statistic):</th>   <td>  0.00</td>  \n",
              "</tr>\n",
              "<tr>\n",
              "  <th>Time:</th>                 <td>21:23:29</td>     <th>  Log-Likelihood:    </th>  <td>  6706.1</td> \n",
              "</tr>\n",
              "<tr>\n",
              "  <th>No. Observations:</th>      <td>   225</td>      <th>  AIC:               </th> <td>-1.340e+04</td>\n",
              "</tr>\n",
              "<tr>\n",
              "  <th>Df Residuals:</th>          <td>   221</td>      <th>  BIC:               </th> <td>-1.339e+04</td>\n",
              "</tr>\n",
              "<tr>\n",
              "  <th>Df Model:</th>              <td>     3</td>      <th>                     </th>      <td> </td>    \n",
              "</tr>\n",
              "<tr>\n",
              "  <th>Covariance Type:</th>      <td>nonrobust</td>    <th>                     </th>      <td> </td>    \n",
              "</tr>\n",
              "</table>\n",
              "<table class=\"simpletable\">\n",
              "<tr>\n",
              "    <td></td>       <th>coef</th>     <th>std err</th>      <th>t</th>      <th>P>|t|</th>  <th>[0.025</th>    <th>0.975]</th>  \n",
              "</tr>\n",
              "<tr>\n",
              "  <th>const</th> <td>-1.271e-14</td> <td> 1.87e-15</td> <td>   -6.791</td> <td> 0.000</td> <td>-1.64e-14</td> <td>-9.02e-15</td>\n",
              "</tr>\n",
              "<tr>\n",
              "  <th>x1</th>    <td>   89.8180</td> <td> 1.81e-15</td> <td> 4.97e+16</td> <td> 0.000</td> <td>   89.818</td> <td>   89.818</td>\n",
              "</tr>\n",
              "<tr>\n",
              "  <th>x2</th>    <td>   89.9696</td> <td> 1.83e-15</td> <td> 4.91e+16</td> <td> 0.000</td> <td>   89.970</td> <td>   89.970</td>\n",
              "</tr>\n",
              "<tr>\n",
              "  <th>x3</th>    <td>   74.1800</td> <td> 1.83e-15</td> <td> 4.05e+16</td> <td> 0.000</td> <td>   74.180</td> <td>   74.180</td>\n",
              "</tr>\n",
              "</table>\n",
              "<table class=\"simpletable\">\n",
              "<tr>\n",
              "  <th>Omnibus:</th>       <td> 1.611</td> <th>  Durbin-Watson:     </th> <td>   1.623</td>\n",
              "</tr>\n",
              "<tr>\n",
              "  <th>Prob(Omnibus):</th> <td> 0.447</td> <th>  Jarque-Bera (JB):  </th> <td>   1.365</td>\n",
              "</tr>\n",
              "<tr>\n",
              "  <th>Skew:</th>          <td>-0.185</td> <th>  Prob(JB):          </th> <td>   0.505</td>\n",
              "</tr>\n",
              "<tr>\n",
              "  <th>Kurtosis:</th>      <td> 3.096</td> <th>  Cond. No.          </th> <td>    1.19</td>\n",
              "</tr>\n",
              "</table><br/><br/>Notes:<br/>[1] Standard Errors assume that the covariance matrix of the errors is correctly specified."
            ],
            "text/latex": "\\begin{center}\n\\begin{tabular}{lclc}\n\\toprule\n\\textbf{Dep. Variable:}    &        y         & \\textbf{  R-squared:         } &     1.000   \\\\\n\\textbf{Model:}            &       OLS        & \\textbf{  Adj. R-squared:    } &     1.000   \\\\\n\\textbf{Method:}           &  Least Squares   & \\textbf{  F-statistic:       } & 2.378e+33   \\\\\n\\textbf{Date:}             & Fri, 29 Sep 2023 & \\textbf{  Prob (F-statistic):} &     0.00    \\\\\n\\textbf{Time:}             &     21:23:29     & \\textbf{  Log-Likelihood:    } &    6706.1   \\\\\n\\textbf{No. Observations:} &         225      & \\textbf{  AIC:               } & -1.340e+04  \\\\\n\\textbf{Df Residuals:}     &         221      & \\textbf{  BIC:               } & -1.339e+04  \\\\\n\\textbf{Df Model:}         &           3      & \\textbf{                     } &             \\\\\n\\textbf{Covariance Type:}  &    nonrobust     & \\textbf{                     } &             \\\\\n\\bottomrule\n\\end{tabular}\n\\begin{tabular}{lcccccc}\n               & \\textbf{coef} & \\textbf{std err} & \\textbf{t} & \\textbf{P$> |$t$|$} & \\textbf{[0.025} & \\textbf{0.975]}  \\\\\n\\midrule\n\\textbf{const} &   -1.271e-14  &     1.87e-15     &    -6.791  &         0.000        &    -1.64e-14    &    -9.02e-15     \\\\\n\\textbf{x1}    &      89.8180  &     1.81e-15     &  4.97e+16  &         0.000        &       89.818    &       89.818     \\\\\n\\textbf{x2}    &      89.9696  &     1.83e-15     &  4.91e+16  &         0.000        &       89.970    &       89.970     \\\\\n\\textbf{x3}    &      74.1800  &     1.83e-15     &  4.05e+16  &         0.000        &       74.180    &       74.180     \\\\\n\\bottomrule\n\\end{tabular}\n\\begin{tabular}{lclc}\n\\textbf{Omnibus:}       &  1.611 & \\textbf{  Durbin-Watson:     } &    1.623  \\\\\n\\textbf{Prob(Omnibus):} &  0.447 & \\textbf{  Jarque-Bera (JB):  } &    1.365  \\\\\n\\textbf{Skew:}          & -0.185 & \\textbf{  Prob(JB):          } &    0.505  \\\\\n\\textbf{Kurtosis:}      &  3.096 & \\textbf{  Cond. No.          } &     1.19  \\\\\n\\bottomrule\n\\end{tabular}\n%\\caption{OLS Regression Results}\n\\end{center}\n\nNotes: \\newline\n [1] Standard Errors assume that the covariance matrix of the errors is correctly specified."
          },
          "metadata": {},
          "execution_count": 44
        }
      ]
    },
    {
      "cell_type": "code",
      "source": [
        "# create sns pairplot, kind=reg, with X_train and y_train\n",
        "import pandas as pd\n",
        "import seaborn as sns\n",
        "\n",
        "sns.pairplot(data=pd.concat([X_train,y_train],axis=1),\n",
        "             x_vars=['x1','x2','x3'],y_vars='y',\n",
        "             kind='reg',\n",
        "             aspect=0.8,\n",
        "             plot_kws={'line_kws':{'color':'red'},\n",
        "                       'scatter_kws':{'alpha':0.5}\n",
        "             }\n",
        "             );"
      ],
      "metadata": {
        "id": "I3C2jd6vn-xn",
        "colab": {
          "base_uri": "https://localhost:8080/",
          "height": 265
        },
        "outputId": "e978788f-67d4-48d4-8f85-cb7d3224765c"
      },
      "execution_count": null,
      "outputs": [
        {
          "output_type": "display_data",
          "data": {
            "text/plain": [
              "<Figure size 600x250 with 3 Axes>"
            ],
            "image/png": "[encoded data removed]"
          },
          "metadata": {}
        }
      ]
    },
    {
      "cell_type": "markdown",
      "source": [
        "### Reflection\n",
        "\n",
        "Reflect on what you did and type out some of your thoughts. What would you do to cut costs and boost sales?\n",
        "\n",
        "\n",
        "As shown above, for this project analyzed and modelled the advertising dataset to see how sales is influenced by TV, radio, and newspaper advertising expenditures and provide suggestive methods to cut costs and boost sales.\n"
      ],
      "metadata": {
        "id": "BiXZ3OrZuppE"
      }
    }
  ]
}